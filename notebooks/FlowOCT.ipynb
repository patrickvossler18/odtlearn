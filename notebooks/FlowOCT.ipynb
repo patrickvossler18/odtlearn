{
 "cells": [
  {
   "cell_type": "code",
   "execution_count": 1,
   "metadata": {
    "cell_id": "21658c23-2ef7-42e3-bf53-75fba223fcdd",
    "deepnote_cell_height": 202,
    "deepnote_cell_type": "code",
    "deepnote_to_be_reexecuted": false,
    "execution": {
     "iopub.execute_input": "2023-07-26T02:37:20.469441Z",
     "iopub.status.busy": "2023-07-26T02:37:20.468987Z",
     "iopub.status.idle": "2023-07-26T02:37:21.779079Z",
     "shell.execute_reply": "2023-07-26T02:37:21.777964Z"
    },
    "execution_millis": 1891,
    "execution_start": 1665161862284,
    "source_hash": "9500ca25"
   },
   "outputs": [
    {
     "name": "stdout",
     "output_type": "stream",
     "text": [
      "/usr/local/lib/python3.8/site-packages/mip/libraries/cbc-c-linux-x86-64.so\n"
     ]
    }
   ],
   "source": [
    "import numpy as np\n",
    "import pandas as pd\n",
    "import matplotlib.pyplot as plt\n",
    "from sklearn.preprocessing import OneHotEncoder\n",
    "\n",
    "from odtlearn.flow_oct import FlowOCT, BendersOCT\n",
    "from odtlearn.utils.binarize import binarize"
   ]
  },
  {
   "attachments": {},
   "cell_type": "markdown",
   "metadata": {
    "cell_id": "22bfbe5ce3fb479c900abc4c0443c38a",
    "deepnote_cell_height": 84,
    "deepnote_cell_type": "markdown",
    "tags": []
   },
   "source": [
    "# `FlowOCT` Examples"
   ]
  },
  {
   "attachments": {},
   "cell_type": "markdown",
   "metadata": {
    "cell_id": "1d288c39a9ae485b822dbf5eccbd89e3",
    "deepnote_cell_height": 108,
    "deepnote_cell_type": "markdown",
    "tags": []
   },
   "source": [
    "## Example 0: Binarization\n",
    "\n",
    "The following example shows how to binarize a dataset with categorical and integer features using the built-in function `binarize`."
   ]
  },
  {
   "cell_type": "code",
   "execution_count": 2,
   "metadata": {
    "cell_id": "4ed40d742b8d40c697c0ab3d765eaf45",
    "deepnote_cell_height": 166,
    "deepnote_cell_type": "code",
    "deepnote_to_be_reexecuted": false,
    "execution": {
     "iopub.execute_input": "2023-07-26T02:37:21.782837Z",
     "iopub.status.busy": "2023-07-26T02:37:21.782457Z",
     "iopub.status.idle": "2023-07-26T02:37:21.789461Z",
     "shell.execute_reply": "2023-07-26T02:37:21.788400Z"
    },
    "execution_millis": 2,
    "execution_start": 1665161870277,
    "source_hash": "c7737b5a",
    "tags": []
   },
   "outputs": [],
   "source": [
    "number_of_child_list = [1, 2, 4, 3, 1, 2, 4, 3, 2, 1]\n",
    "age_list = [10, 20, 40, 30, 10, 20, 40, 30, 20, 10]\n",
    "race_list = [\n",
    "    \"Black\",\n",
    "    \"White\",\n",
    "    \"Hispanic\",\n",
    "    \"Black\",\n",
    "    \"White\",\n",
    "    \"Black\",\n",
    "    \"White\",\n",
    "    \"Hispanic\",\n",
    "    \"Black\",\n",
    "    \"White\",\n",
    "]\n",
    "sex_list = [\"M\", \"F\", \"M\", \"M\", \"F\", \"M\", \"F\", \"M\", \"M\", \"F\"]\n",
    "df = pd.DataFrame(\n",
    "    list(zip(sex_list, race_list, number_of_child_list, age_list)),\n",
    "    columns=[\"sex\", \"race\", \"num_child\", \"age\"],\n",
    ")"
   ]
  },
  {
   "cell_type": "code",
   "execution_count": 3,
   "metadata": {
    "cell_id": "7abc1f79d5044501a954f66ddda8a2d7",
    "deepnote_cell_height": 628,
    "deepnote_cell_type": "code",
    "deepnote_to_be_reexecuted": false,
    "execution": {
     "iopub.execute_input": "2023-07-26T02:37:21.792620Z",
     "iopub.status.busy": "2023-07-26T02:37:21.792240Z",
     "iopub.status.idle": "2023-07-26T02:37:21.816385Z",
     "shell.execute_reply": "2023-07-26T02:37:21.815453Z"
    },
    "execution_millis": 67,
    "execution_start": 1664770046804,
    "source_hash": "10849c45",
    "tags": []
   },
   "outputs": [
    {
     "data": {
      "text/html": [
       "<div>\n",
       "<style scoped>\n",
       "    .dataframe tbody tr th:only-of-type {\n",
       "        vertical-align: middle;\n",
       "    }\n",
       "\n",
       "    .dataframe tbody tr th {\n",
       "        vertical-align: top;\n",
       "    }\n",
       "\n",
       "    .dataframe thead th {\n",
       "        text-align: right;\n",
       "    }\n",
       "</style>\n",
       "<table border=\"1\" class=\"dataframe\">\n",
       "  <thead>\n",
       "    <tr style=\"text-align: right;\">\n",
       "      <th></th>\n",
       "      <th>sex_M</th>\n",
       "      <th>race_Black</th>\n",
       "      <th>race_Hispanic</th>\n",
       "      <th>race_White</th>\n",
       "      <th>num_child_1</th>\n",
       "      <th>num_child_2</th>\n",
       "      <th>num_child_3</th>\n",
       "      <th>num_child_4</th>\n",
       "      <th>age_10</th>\n",
       "      <th>age_20</th>\n",
       "      <th>age_30</th>\n",
       "      <th>age_40</th>\n",
       "    </tr>\n",
       "  </thead>\n",
       "  <tbody>\n",
       "    <tr>\n",
       "      <th>0</th>\n",
       "      <td>1</td>\n",
       "      <td>1</td>\n",
       "      <td>0</td>\n",
       "      <td>0</td>\n",
       "      <td>1</td>\n",
       "      <td>1</td>\n",
       "      <td>1</td>\n",
       "      <td>1</td>\n",
       "      <td>1</td>\n",
       "      <td>1</td>\n",
       "      <td>1</td>\n",
       "      <td>1</td>\n",
       "    </tr>\n",
       "    <tr>\n",
       "      <th>1</th>\n",
       "      <td>0</td>\n",
       "      <td>0</td>\n",
       "      <td>0</td>\n",
       "      <td>1</td>\n",
       "      <td>0</td>\n",
       "      <td>1</td>\n",
       "      <td>1</td>\n",
       "      <td>1</td>\n",
       "      <td>0</td>\n",
       "      <td>1</td>\n",
       "      <td>1</td>\n",
       "      <td>1</td>\n",
       "    </tr>\n",
       "    <tr>\n",
       "      <th>2</th>\n",
       "      <td>1</td>\n",
       "      <td>0</td>\n",
       "      <td>1</td>\n",
       "      <td>0</td>\n",
       "      <td>0</td>\n",
       "      <td>0</td>\n",
       "      <td>0</td>\n",
       "      <td>1</td>\n",
       "      <td>0</td>\n",
       "      <td>0</td>\n",
       "      <td>0</td>\n",
       "      <td>1</td>\n",
       "    </tr>\n",
       "    <tr>\n",
       "      <th>3</th>\n",
       "      <td>1</td>\n",
       "      <td>1</td>\n",
       "      <td>0</td>\n",
       "      <td>0</td>\n",
       "      <td>0</td>\n",
       "      <td>0</td>\n",
       "      <td>1</td>\n",
       "      <td>1</td>\n",
       "      <td>0</td>\n",
       "      <td>0</td>\n",
       "      <td>1</td>\n",
       "      <td>1</td>\n",
       "    </tr>\n",
       "    <tr>\n",
       "      <th>4</th>\n",
       "      <td>0</td>\n",
       "      <td>0</td>\n",
       "      <td>0</td>\n",
       "      <td>1</td>\n",
       "      <td>1</td>\n",
       "      <td>1</td>\n",
       "      <td>1</td>\n",
       "      <td>1</td>\n",
       "      <td>1</td>\n",
       "      <td>1</td>\n",
       "      <td>1</td>\n",
       "      <td>1</td>\n",
       "    </tr>\n",
       "    <tr>\n",
       "      <th>5</th>\n",
       "      <td>1</td>\n",
       "      <td>1</td>\n",
       "      <td>0</td>\n",
       "      <td>0</td>\n",
       "      <td>0</td>\n",
       "      <td>1</td>\n",
       "      <td>1</td>\n",
       "      <td>1</td>\n",
       "      <td>0</td>\n",
       "      <td>1</td>\n",
       "      <td>1</td>\n",
       "      <td>1</td>\n",
       "    </tr>\n",
       "    <tr>\n",
       "      <th>6</th>\n",
       "      <td>0</td>\n",
       "      <td>0</td>\n",
       "      <td>0</td>\n",
       "      <td>1</td>\n",
       "      <td>0</td>\n",
       "      <td>0</td>\n",
       "      <td>0</td>\n",
       "      <td>1</td>\n",
       "      <td>0</td>\n",
       "      <td>0</td>\n",
       "      <td>0</td>\n",
       "      <td>1</td>\n",
       "    </tr>\n",
       "    <tr>\n",
       "      <th>7</th>\n",
       "      <td>1</td>\n",
       "      <td>0</td>\n",
       "      <td>1</td>\n",
       "      <td>0</td>\n",
       "      <td>0</td>\n",
       "      <td>0</td>\n",
       "      <td>1</td>\n",
       "      <td>1</td>\n",
       "      <td>0</td>\n",
       "      <td>0</td>\n",
       "      <td>1</td>\n",
       "      <td>1</td>\n",
       "    </tr>\n",
       "    <tr>\n",
       "      <th>8</th>\n",
       "      <td>1</td>\n",
       "      <td>1</td>\n",
       "      <td>0</td>\n",
       "      <td>0</td>\n",
       "      <td>0</td>\n",
       "      <td>1</td>\n",
       "      <td>1</td>\n",
       "      <td>1</td>\n",
       "      <td>0</td>\n",
       "      <td>1</td>\n",
       "      <td>1</td>\n",
       "      <td>1</td>\n",
       "    </tr>\n",
       "    <tr>\n",
       "      <th>9</th>\n",
       "      <td>0</td>\n",
       "      <td>0</td>\n",
       "      <td>0</td>\n",
       "      <td>1</td>\n",
       "      <td>1</td>\n",
       "      <td>1</td>\n",
       "      <td>1</td>\n",
       "      <td>1</td>\n",
       "      <td>1</td>\n",
       "      <td>1</td>\n",
       "      <td>1</td>\n",
       "      <td>1</td>\n",
       "    </tr>\n",
       "  </tbody>\n",
       "</table>\n",
       "</div>"
      ],
      "text/plain": [
       "   sex_M  race_Black  race_Hispanic  race_White  num_child_1  num_child_2  \\\n",
       "0      1           1              0           0            1            1   \n",
       "1      0           0              0           1            0            1   \n",
       "2      1           0              1           0            0            0   \n",
       "3      1           1              0           0            0            0   \n",
       "4      0           0              0           1            1            1   \n",
       "5      1           1              0           0            0            1   \n",
       "6      0           0              0           1            0            0   \n",
       "7      1           0              1           0            0            0   \n",
       "8      1           1              0           0            0            1   \n",
       "9      0           0              0           1            1            1   \n",
       "\n",
       "   num_child_3  num_child_4  age_10  age_20  age_30  age_40  \n",
       "0            1            1       1       1       1       1  \n",
       "1            1            1       0       1       1       1  \n",
       "2            0            1       0       0       0       1  \n",
       "3            1            1       0       0       1       1  \n",
       "4            1            1       1       1       1       1  \n",
       "5            1            1       0       1       1       1  \n",
       "6            0            1       0       0       0       1  \n",
       "7            1            1       0       0       1       1  \n",
       "8            1            1       0       1       1       1  \n",
       "9            1            1       1       1       1       1  "
      ]
     },
     "execution_count": 3,
     "metadata": {},
     "output_type": "execute_result"
    }
   ],
   "source": [
    "df_enc = binarize(\n",
    "    df, categorical_cols=[\"sex\", \"race\"], integer_cols=[\"num_child\", \"age\"]\n",
    ")\n",
    "df_enc"
   ]
  },
  {
   "attachments": {},
   "cell_type": "markdown",
   "metadata": {
    "cell_id": "00002-e9b87ac4-673e-49e4-9b9e-b65b2cea9708",
    "deepnote_cell_height": 188,
    "deepnote_cell_type": "markdown"
   },
   "source": [
    "## Example 1: Varying `depth` and `_lambda`\n",
    "In this part, we study a simple example and investigate different parameter combinations to provide intuition on how they affect the structure of the tree.\n",
    "\n",
    "First we generate the data for our example. The diagram within the code block shows the training dataset. Our dataset has two binary features (X1 and X2) and two class labels (+1 and -1)."
   ]
  },
  {
   "cell_type": "code",
   "execution_count": 4,
   "metadata": {
    "cell_id": "00003-848cadcc-11d1-4e7f-b476-6b0aa6fc5b44",
    "deepnote_cell_height": 310,
    "deepnote_cell_type": "code",
    "deepnote_to_be_reexecuted": false,
    "execution": {
     "iopub.execute_input": "2023-07-26T02:37:21.819540Z",
     "iopub.status.busy": "2023-07-26T02:37:21.819300Z",
     "iopub.status.idle": "2023-07-26T02:37:21.827780Z",
     "shell.execute_reply": "2023-07-26T02:37:21.826953Z"
    },
    "execution_millis": 3,
    "execution_start": 1665161893704,
    "owner_user_id": "fe086183-1334-4d34-b4e4-e2e52f4c0652",
    "source_hash": "75060998"
   },
   "outputs": [],
   "source": [
    "from odtlearn.datasets import flow_oct_example\n",
    "\n",
    "\"\"\"\n",
    "    X2\n",
    "    |               |\n",
    "    |               |\n",
    "    1    + +        |    -\n",
    "    |               |   \n",
    "    |---------------|-------------\n",
    "    |               |\n",
    "    0    - - - -    |    + + +\n",
    "    |    - - -      |\n",
    "    |______0________|_______1_______X1\n",
    "\"\"\"\n",
    "\n",
    "\n",
    "X, y = flow_oct_example()"
   ]
  },
  {
   "attachments": {},
   "cell_type": "markdown",
   "metadata": {
    "cell_id": "00004-08d3e617-af87-4be1-ae2d-e7894cfe2beb",
    "deepnote_cell_height": 101,
    "deepnote_cell_type": "markdown"
   },
   "source": [
    "### Tree with `depth = 1`\n",
    "\n",
    "In the following, we fit a classification tree of depth 1, i.e., a tree with a single branching node and two leaf nodes."
   ]
  },
  {
   "cell_type": "code",
   "execution_count": 5,
   "metadata": {
    "cell_id": "00005-3fdf503d-31bf-499d-a332-db805ec8b030",
    "deepnote_cell_height": 230,
    "deepnote_cell_type": "code",
    "deepnote_output_heights": [
     null,
     20
    ],
    "deepnote_to_be_reexecuted": false,
    "execution": {
     "iopub.execute_input": "2023-07-26T02:37:21.831179Z",
     "iopub.status.busy": "2023-07-26T02:37:21.830776Z",
     "iopub.status.idle": "2023-07-26T02:37:21.928735Z",
     "shell.execute_reply": "2023-07-26T02:37:21.927858Z"
    },
    "execution_millis": 773,
    "execution_start": 1665161919210,
    "source_hash": "9ef0a950"
   },
   "outputs": [
    {
     "data": {
      "text/plain": [
       "FlowOCT(solver=cbc,depth=1,time_limit=60,num_threads=None,verbose=False)"
      ]
     },
     "execution_count": 5,
     "metadata": {},
     "output_type": "execute_result"
    }
   ],
   "source": [
    "stcl = FlowOCT(depth=1, solver=\"cbc\")\n",
    "stcl.fit(X, y)"
   ]
  },
  {
   "cell_type": "code",
   "execution_count": 6,
   "metadata": {
    "cell_id": "00006-3528e5a2-503d-41bd-b914-933e4b53d8a4",
    "deepnote_cell_height": 163,
    "deepnote_cell_type": "code",
    "deepnote_to_be_reexecuted": false,
    "execution": {
     "iopub.execute_input": "2023-07-26T02:37:21.932612Z",
     "iopub.status.busy": "2023-07-26T02:37:21.931890Z",
     "iopub.status.idle": "2023-07-26T02:37:22.271131Z",
     "shell.execute_reply": "2023-07-26T02:37:22.270164Z"
    },
    "execution_millis": 928,
    "execution_start": 1665161928297,
    "source_hash": "ab843413"
   },
   "outputs": [
    {
     "ename": "AttributeError",
     "evalue": "'FlowOCT' object has no attribute '_model'",
     "output_type": "error",
     "traceback": [
      "\u001b[0;31m---------------------------------------------------------------------------\u001b[0m",
      "\u001b[0;31mAttributeError\u001b[0m                            Traceback (most recent call last)",
      "Cell \u001b[0;32mIn[6], line 2\u001b[0m\n\u001b[1;32m      1\u001b[0m predictions \u001b[38;5;241m=\u001b[39m stcl\u001b[38;5;241m.\u001b[39mpredict(X)\n\u001b[0;32m----> 2\u001b[0m \u001b[38;5;28mprint\u001b[39m(\u001b[38;5;124mf\u001b[39m\u001b[38;5;124m'\u001b[39m\u001b[38;5;124mOptimality gap is \u001b[39m\u001b[38;5;132;01m{\u001b[39;00mstcl\u001b[38;5;241m.\u001b[39m_model\u001b[38;5;241m.\u001b[39mgetAttr(\u001b[38;5;124m\"\u001b[39m\u001b[38;5;124mMIPGap\u001b[39m\u001b[38;5;124m\"\u001b[39m)\u001b[38;5;132;01m}\u001b[39;00m\u001b[38;5;124m'\u001b[39m)\n\u001b[1;32m      3\u001b[0m \u001b[38;5;28mprint\u001b[39m(\u001b[38;5;124mf\u001b[39m\u001b[38;5;124m\"\u001b[39m\u001b[38;5;124mIn-sample accuracy is \u001b[39m\u001b[38;5;132;01m{\u001b[39;00mnp\u001b[38;5;241m.\u001b[39msum(predictions\u001b[38;5;241m==\u001b[39my)\u001b[38;5;241m/\u001b[39my\u001b[38;5;241m.\u001b[39mshape[\u001b[38;5;241m0\u001b[39m]\u001b[38;5;132;01m}\u001b[39;00m\u001b[38;5;124m\"\u001b[39m)\n",
      "\u001b[0;31mAttributeError\u001b[0m: 'FlowOCT' object has no attribute '_model'"
     ]
    }
   ],
   "source": [
    "predictions = stcl.predict(X)\n",
    "print(f'Optimality gap is {stcl._model.getAttr(\"MIPGap\")}')\n",
    "print(f\"In-sample accuracy is {np.sum(predictions==y)/y.shape[0]}\")"
   ]
  },
  {
   "attachments": {},
   "cell_type": "markdown",
   "metadata": {
    "cell_id": "00007-ff875aa5-d595-4038-9c0c-db76394cb64e",
    "deepnote_cell_height": 110,
    "deepnote_cell_type": "markdown"
   },
   "source": [
    "As we can see above, we find the optimal tree and the in-sample accuracy is 76%.\n",
    "\n",
    "ODTlearn provides two different ways of visualizing the structure of the tree. The first method prints the structure of the tree in the console:"
   ]
  },
  {
   "cell_type": "code",
   "execution_count": 7,
   "metadata": {
    "cell_id": "00008-7810b10f-28cc-4cfa-bcce-b3c6fe18be24",
    "deepnote_cell_height": 207,
    "deepnote_cell_type": "code",
    "deepnote_to_be_reexecuted": false,
    "execution": {
     "iopub.execute_input": "2023-07-26T02:37:22.275011Z",
     "iopub.status.busy": "2023-07-26T02:37:22.274743Z",
     "iopub.status.idle": "2023-07-26T02:37:22.281231Z",
     "shell.execute_reply": "2023-07-26T02:37:22.280347Z"
    },
    "execution_millis": 3,
    "execution_start": 1665161943547,
    "source_hash": "2f43d041"
   },
   "outputs": [
    {
     "name": "stdout",
     "output_type": "stream",
     "text": [
      "#########node  1\n",
      "branch on X_0\n",
      "#########node  2\n",
      "leaf 0\n",
      "#########node  3\n",
      "leaf 1\n"
     ]
    }
   ],
   "source": [
    "stcl.print_tree()"
   ]
  },
  {
   "attachments": {},
   "cell_type": "markdown",
   "metadata": {
    "cell_id": "00009-90bfb8df-67ac-4e97-abe9-8076249db2b8",
    "deepnote_cell_height": 52,
    "deepnote_cell_type": "markdown"
   },
   "source": [
    "The second method plots the structure of the tree using `matplotlib`:"
   ]
  },
  {
   "cell_type": "code",
   "execution_count": 8,
   "metadata": {
    "cell_id": "00010-c3d86f40-82ba-45c3-aa11-b8fddb6bead1",
    "deepnote_cell_height": 534,
    "deepnote_cell_type": "code",
    "deepnote_output_heights": [
     406
    ],
    "deepnote_to_be_reexecuted": false,
    "execution": {
     "iopub.execute_input": "2023-07-26T02:37:22.284885Z",
     "iopub.status.busy": "2023-07-26T02:37:22.284624Z",
     "iopub.status.idle": "2023-07-26T02:37:22.481588Z",
     "shell.execute_reply": "2023-07-26T02:37:22.480659Z"
    },
    "execution_millis": 270,
    "execution_start": 1665161948808,
    "source_hash": "d2159fb3"
   },
   "outputs": [
    {
     "data": {
      "image/png": "[encoded data removed]",
      "text/plain": [
       "<Figure size 500x500 with 1 Axes>"
      ]
     },
     "metadata": {},
     "output_type": "display_data"
    }
   ],
   "source": [
    "fig, ax = plt.subplots(figsize=(5, 5))\n",
    "stcl.plot_tree(ax=ax)\n",
    "plt.show()"
   ]
  },
  {
   "attachments": {},
   "cell_type": "markdown",
   "metadata": {
    "cell_id": "00011-8ac47211-d4df-494b-9423-fccb70be09ca",
    "deepnote_cell_height": 101,
    "deepnote_cell_type": "markdown"
   },
   "source": [
    "### Tree with `depth = 2`\n",
    "\n",
    "Now we increase the depth of the tree to achieve higher accuracy."
   ]
  },
  {
   "cell_type": "code",
   "execution_count": 9,
   "metadata": {
    "cell_id": "00012-6fd1f710-63dc-45bc-aea9-fb6544a3e13d",
    "deepnote_cell_height": 184,
    "deepnote_cell_type": "code",
    "deepnote_output_heights": [
     20
    ],
    "deepnote_to_be_reexecuted": false,
    "execution": {
     "iopub.execute_input": "2023-07-26T02:37:22.485466Z",
     "iopub.status.busy": "2023-07-26T02:37:22.485205Z",
     "iopub.status.idle": "2023-07-26T02:37:22.513294Z",
     "shell.execute_reply": "2023-07-26T02:37:22.512507Z"
    },
    "execution_millis": 7,
    "execution_start": 1665161961681,
    "source_hash": "1c3c8b1c"
   },
   "outputs": [
    {
     "data": {
      "text/plain": [
       "FlowOCT(solver=cbc,depth=2,time_limit=60,num_threads=None,verbose=False)"
      ]
     },
     "execution_count": 9,
     "metadata": {},
     "output_type": "execute_result"
    }
   ],
   "source": [
    "stcl = FlowOCT(depth=2, solver=\"cbc\")\n",
    "stcl.fit(X, y)"
   ]
  },
  {
   "cell_type": "code",
   "execution_count": 10,
   "metadata": {
    "cell_id": "00013-c3674981-c2c8-4b4b-b429-57a230ae5e93",
    "deepnote_cell_height": 163,
    "deepnote_cell_type": "code",
    "deepnote_to_be_reexecuted": false,
    "execution": {
     "iopub.execute_input": "2023-07-26T02:37:22.517682Z",
     "iopub.status.busy": "2023-07-26T02:37:22.516536Z",
     "iopub.status.idle": "2023-07-26T02:37:22.540565Z",
     "shell.execute_reply": "2023-07-26T02:37:22.539780Z"
    },
    "execution_millis": 619,
    "execution_start": 1665161968547,
    "source_hash": "6b45f8a6"
   },
   "outputs": [
    {
     "ename": "AttributeError",
     "evalue": "'FlowOCT' object has no attribute '_model'",
     "output_type": "error",
     "traceback": [
      "\u001b[0;31m---------------------------------------------------------------------------\u001b[0m",
      "\u001b[0;31mAttributeError\u001b[0m                            Traceback (most recent call last)",
      "Cell \u001b[0;32mIn[10], line 1\u001b[0m\n\u001b[0;32m----> 1\u001b[0m \u001b[38;5;28mprint\u001b[39m(\u001b[38;5;124mf\u001b[39m\u001b[38;5;124m'\u001b[39m\u001b[38;5;124mOptimality gap is \u001b[39m\u001b[38;5;132;01m{\u001b[39;00mstcl\u001b[38;5;241m.\u001b[39m_model\u001b[38;5;241m.\u001b[39mgetAttr(\u001b[38;5;124m\"\u001b[39m\u001b[38;5;124mMIPGap\u001b[39m\u001b[38;5;124m\"\u001b[39m)\u001b[38;5;132;01m}\u001b[39;00m\u001b[38;5;124m'\u001b[39m)\n\u001b[1;32m      2\u001b[0m predictions \u001b[38;5;241m=\u001b[39m stcl\u001b[38;5;241m.\u001b[39mpredict(X)\n\u001b[1;32m      3\u001b[0m \u001b[38;5;28mprint\u001b[39m(\u001b[38;5;124mf\u001b[39m\u001b[38;5;124m\"\u001b[39m\u001b[38;5;124mIn-sample accuracy is \u001b[39m\u001b[38;5;132;01m{\u001b[39;00mnp\u001b[38;5;241m.\u001b[39msum(predictions\u001b[38;5;241m==\u001b[39my)\u001b[38;5;241m/\u001b[39my\u001b[38;5;241m.\u001b[39mshape[\u001b[38;5;241m0\u001b[39m]\u001b[38;5;132;01m}\u001b[39;00m\u001b[38;5;124m\"\u001b[39m)\n",
      "\u001b[0;31mAttributeError\u001b[0m: 'FlowOCT' object has no attribute '_model'"
     ]
    }
   ],
   "source": [
    "print(f'Optimality gap is {stcl._model.getAttr(\"MIPGap\")}')\n",
    "predictions = stcl.predict(X)\n",
    "print(f\"In-sample accuracy is {np.sum(predictions==y)/y.shape[0]}\")"
   ]
  },
  {
   "attachments": {},
   "cell_type": "markdown",
   "metadata": {
    "cell_id": "9ee768479e2a4cbd84a0fa6352d26365",
    "deepnote_cell_height": 52,
    "deepnote_cell_type": "markdown",
    "tags": []
   },
   "source": [
    "As we can see, with depth 2, we can achieve 100% in-sample accuracy."
   ]
  },
  {
   "cell_type": "code",
   "execution_count": 11,
   "metadata": {
    "cell_id": "a9fba11c28df4a56a1a0a3102d2b0314",
    "deepnote_cell_height": 534,
    "deepnote_cell_type": "code",
    "deepnote_output_heights": [
     406
    ],
    "deepnote_to_be_reexecuted": false,
    "execution": {
     "iopub.execute_input": "2023-07-26T02:37:22.543898Z",
     "iopub.status.busy": "2023-07-26T02:37:22.543448Z",
     "iopub.status.idle": "2023-07-26T02:37:22.896337Z",
     "shell.execute_reply": "2023-07-26T02:37:22.895487Z"
    },
    "execution_millis": 366,
    "execution_start": 1665161976627,
    "source_hash": "702243f5",
    "tags": []
   },
   "outputs": [
    {
     "data": {
      "image/png": "[encoded data removed]",
      "text/plain": [
       "<Figure size 1000x500 with 1 Axes>"
      ]
     },
     "metadata": {},
     "output_type": "display_data"
    }
   ],
   "source": [
    "fig, ax = plt.subplots(figsize=(10, 5))\n",
    "stcl.plot_tree(ax=ax, fontsize=20)\n",
    "plt.show()"
   ]
  },
  {
   "attachments": {},
   "cell_type": "markdown",
   "metadata": {
    "cell_id": "00015-cea69e08-5d82-438f-804e-422f3dfe1528",
    "deepnote_cell_height": 167,
    "deepnote_cell_type": "markdown"
   },
   "source": [
    "### Tree with `depth=2` and Positive `_lambda`\n",
    "\n",
    "As we saw in the above example, with depth 2, we can fully classify the training data. However if we add a regularization term with a high enough value of `_lambda`, we can justify pruning one of the branching nodes to get a sparser tree. In the following, we observe that as we increase `_lambda` from 0 to 0.51, one of the branching nodes gets pruned and as a result, the in-sample accuracy drops to 92%."
   ]
  },
  {
   "cell_type": "code",
   "execution_count": 12,
   "metadata": {
    "cell_id": "00016-9718d2e8-23aa-4565-b40a-373802ebc9ec",
    "deepnote_cell_height": 202,
    "deepnote_cell_type": "code",
    "deepnote_output_heights": [
     20
    ],
    "deepnote_to_be_reexecuted": false,
    "execution": {
     "iopub.execute_input": "2023-07-26T02:37:22.900041Z",
     "iopub.status.busy": "2023-07-26T02:37:22.899367Z",
     "iopub.status.idle": "2023-07-26T02:37:22.938515Z",
     "shell.execute_reply": "2023-07-26T02:37:22.937739Z"
    },
    "execution_millis": 205,
    "execution_start": 1664770189871,
    "source_hash": "346b639f"
   },
   "outputs": [
    {
     "data": {
      "text/plain": [
       "FlowOCT(solver=cbc,depth=2,time_limit=60,num_threads=None,verbose=False)"
      ]
     },
     "execution_count": 12,
     "metadata": {},
     "output_type": "execute_result"
    }
   ],
   "source": [
    "stcl = FlowOCT(solver=\"cbc\", depth=2, _lambda=0.51)\n",
    "stcl.fit(X, y)"
   ]
  },
  {
   "cell_type": "code",
   "execution_count": 13,
   "metadata": {
    "cell_id": "00017-b7172e7a-d5a1-471a-9f16-51ef1e101a81",
    "deepnote_cell_height": 125,
    "deepnote_cell_type": "code",
    "deepnote_to_be_reexecuted": false,
    "execution": {
     "iopub.execute_input": "2023-07-26T02:37:22.942043Z",
     "iopub.status.busy": "2023-07-26T02:37:22.941615Z",
     "iopub.status.idle": "2023-07-26T02:37:22.947322Z",
     "shell.execute_reply": "2023-07-26T02:37:22.946523Z"
    },
    "execution_millis": 899,
    "execution_start": 1664770192379,
    "source_hash": "f3e73368"
   },
   "outputs": [
    {
     "name": "stdout",
     "output_type": "stream",
     "text": [
      "In-sample accuracy is 0.9230769230769231\n"
     ]
    }
   ],
   "source": [
    "predictions = stcl.predict(X)\n",
    "print(f\"In-sample accuracy is {np.sum(predictions==y)/y.shape[0]}\")"
   ]
  },
  {
   "cell_type": "code",
   "execution_count": 14,
   "metadata": {
    "allow_embed": false,
    "cell_id": "914dac0037c14b73a80834a07cc31dc5",
    "deepnote_cell_height": 534,
    "deepnote_cell_type": "code",
    "deepnote_output_heights": [
     406
    ],
    "deepnote_to_be_reexecuted": false,
    "execution": {
     "iopub.execute_input": "2023-07-26T02:37:22.950646Z",
     "iopub.status.busy": "2023-07-26T02:37:22.950124Z",
     "iopub.status.idle": "2023-07-26T02:37:23.223051Z",
     "shell.execute_reply": "2023-07-26T02:37:23.222269Z"
    },
    "execution_millis": 419,
    "execution_start": 1664770193471,
    "source_hash": "702243f5"
   },
   "outputs": [
    {
     "data": {
      "image/png": "[encoded data removed]",
      "text/plain": [
       "<Figure size 1000x500 with 1 Axes>"
      ]
     },
     "metadata": {},
     "output_type": "display_data"
    }
   ],
   "source": [
    "fig, ax = plt.subplots(figsize=(10, 5))\n",
    "stcl.plot_tree(ax=ax, fontsize=20)\n",
    "plt.show()"
   ]
  },
  {
   "attachments": {},
   "cell_type": "markdown",
   "metadata": {
    "cell_id": "00020-f0f1660b-8b7f-452c-99b7-0f8f23ac89ce",
    "deepnote_cell_height": 108,
    "deepnote_cell_type": "markdown"
   },
   "source": [
    "## Example 2: Different Objective Functions\n",
    "\n",
    "In the following, we have a toy example with an imbalanced data, with the positive class being the minority class."
   ]
  },
  {
   "cell_type": "code",
   "execution_count": 15,
   "metadata": {
    "cell_id": "00021-8827aefe-7e77-4cfc-a85e-7273ca7b30e5",
    "deepnote_cell_height": 454,
    "deepnote_cell_type": "code",
    "deepnote_to_be_reexecuted": false,
    "execution": {
     "iopub.execute_input": "2023-07-26T02:37:23.226831Z",
     "iopub.status.busy": "2023-07-26T02:37:23.226412Z",
     "iopub.status.idle": "2023-07-26T02:37:23.233260Z",
     "shell.execute_reply": "2023-07-26T02:37:23.232508Z"
    },
    "execution_millis": 0,
    "execution_start": 1665162085607,
    "source_hash": "a00d4bf4"
   },
   "outputs": [],
   "source": [
    "'''\n",
    "    X2\n",
    "    |               | \n",
    "    |               |\n",
    "    1    + - -      |    -\n",
    "    |               |   \n",
    "    |---------------|--------------\n",
    "    |               |\n",
    "    0    - - - +    |    - - -\n",
    "    |    - - - -    |\n",
    "    |______0________|_______1_______X1\n",
    "'''\n",
    "X = np.array([[0,0],[0,0],[0,0],[0,0],[0,0],[0,0],[0,0],[0,0],\n",
    "              [1,0],[1,0],[1,0],\n",
    "              [1,1],\n",
    "              [0,1],[0,1],[0,1]])\n",
    "y = np.array([0,0,0,0,0,0,0,1,\n",
    "              0,0,0,\n",
    "              0,\n",
    "              1,0,0])"
   ]
  },
  {
   "attachments": {},
   "cell_type": "markdown",
   "metadata": {
    "cell_id": "00022-f6484385-2f43-43ba-83dc-4bec33baee04",
    "deepnote_cell_height": 62,
    "deepnote_cell_type": "markdown"
   },
   "source": [
    "### Tree with classification accuracy objective"
   ]
  },
  {
   "cell_type": "code",
   "execution_count": 16,
   "metadata": {
    "cell_id": "00023-e2f878ab-966d-46dd-920e-f0de749caf1f",
    "deepnote_cell_height": 822,
    "deepnote_cell_type": "code",
    "deepnote_to_be_reexecuted": false,
    "execution": {
     "iopub.execute_input": "2023-07-26T02:37:23.236194Z",
     "iopub.status.busy": "2023-07-26T02:37:23.235839Z",
     "iopub.status.idle": "2023-07-26T02:37:23.267269Z",
     "shell.execute_reply": "2023-07-26T02:37:23.266403Z"
    },
    "execution_millis": 54,
    "execution_start": 1665162091305,
    "source_hash": "4a372af8"
   },
   "outputs": [
    {
     "name": "stdout",
     "output_type": "stream",
     "text": [
      "In-sample accuracy is 0.8666666666666667\n"
     ]
    }
   ],
   "source": [
    "stcl_acc = BendersOCT(solver=\"cbc\", depth=2, obj_mode=\"acc\", verbose=False)\n",
    "stcl_acc.fit(X, y)\n",
    "predictions = stcl_acc.predict(X)\n",
    "print(f\"In-sample accuracy is {np.sum(predictions==y)/y.shape[0]}\")"
   ]
  },
  {
   "cell_type": "code",
   "execution_count": 17,
   "metadata": {
    "cell_id": "09c53f1895bb455e9794f92c03c45ae6",
    "deepnote_cell_height": 367,
    "deepnote_cell_type": "code",
    "deepnote_to_be_reexecuted": false,
    "execution": {
     "iopub.execute_input": "2023-07-26T02:37:23.270305Z",
     "iopub.status.busy": "2023-07-26T02:37:23.269845Z",
     "iopub.status.idle": "2023-07-26T02:37:23.275474Z",
     "shell.execute_reply": "2023-07-26T02:37:23.274648Z"
    },
    "execution_millis": 4,
    "execution_start": 1665162109464,
    "source_hash": "a6f4f17",
    "tags": []
   },
   "outputs": [
    {
     "name": "stdout",
     "output_type": "stream",
     "text": [
      "#########node  1\n",
      "leaf 0\n",
      "#########node  2\n",
      "pruned\n",
      "#########node  3\n",
      "pruned\n",
      "#########node  4\n",
      "pruned\n",
      "#########node  5\n",
      "pruned\n",
      "#########node  6\n",
      "pruned\n",
      "#########node  7\n",
      "pruned\n"
     ]
    }
   ],
   "source": [
    "stcl_acc.print_tree()"
   ]
  },
  {
   "cell_type": "code",
   "execution_count": 18,
   "metadata": {
    "cell_id": "00025-de161a83-c201-4c2f-9a41-b2c0051b1834",
    "deepnote_cell_height": 534,
    "deepnote_cell_type": "code",
    "deepnote_output_heights": [
     406
    ],
    "deepnote_to_be_reexecuted": false,
    "execution": {
     "iopub.execute_input": "2023-07-26T02:37:23.279129Z",
     "iopub.status.busy": "2023-07-26T02:37:23.278612Z",
     "iopub.status.idle": "2023-07-26T02:37:23.395822Z",
     "shell.execute_reply": "2023-07-26T02:37:23.395017Z"
    },
    "execution_millis": 611,
    "execution_start": 1665162118253,
    "source_hash": "84dfb7f3"
   },
   "outputs": [
    {
     "data": {
      "image/png": "[encoded data removed]",
      "text/plain": [
       "<Figure size 1000x500 with 1 Axes>"
      ]
     },
     "metadata": {},
     "output_type": "display_data"
    }
   ],
   "source": [
    "fig, ax = plt.subplots(figsize=(10, 5)) \n",
    "stcl_acc.plot_tree(ax=ax, fontsize=20)\n",
    "plt.show()"
   ]
  },
  {
   "attachments": {},
   "cell_type": "markdown",
   "metadata": {
    "cell_id": "00026-9028f384-3bb7-4a5a-bf50-d97ddb984dd3",
    "deepnote_cell_height": 62,
    "deepnote_cell_type": "markdown"
   },
   "source": [
    "### Tree with Balanced Classification Accuracy Objective"
   ]
  },
  {
   "cell_type": "code",
   "execution_count": 19,
   "metadata": {
    "cell_id": "00027-d4bdf0ac-d06e-4c2a-a8f1-e85669bce65a",
    "deepnote_cell_height": 840,
    "deepnote_cell_type": "code",
    "deepnote_to_be_reexecuted": false,
    "execution": {
     "iopub.execute_input": "2023-07-26T02:37:23.399417Z",
     "iopub.status.busy": "2023-07-26T02:37:23.399036Z",
     "iopub.status.idle": "2023-07-26T02:37:23.471277Z",
     "shell.execute_reply": "2023-07-26T02:37:23.469827Z"
    },
    "execution_millis": 41,
    "execution_start": 1665162304727,
    "source_hash": "ea7a2823"
   },
   "outputs": [
    {
     "name": "stdout",
     "output_type": "stream",
     "text": [
      "In-sample accuracy is 0.8\n"
     ]
    }
   ],
   "source": [
    "stcl_balance = FlowOCT(\n",
    "    solver=\"cbc\",\n",
    "    depth=2,\n",
    "    obj_mode=\"balance\",\n",
    "    _lambda=0,\n",
    "    verbose=False,\n",
    ")\n",
    "stcl_balance.fit(X, y)\n",
    "predictions = stcl_balance.predict(X)\n",
    "print(f\"In-sample accuracy is {np.sum(predictions==y)/y.shape[0]}\")"
   ]
  },
  {
   "cell_type": "code",
   "execution_count": 20,
   "metadata": {
    "cell_id": "00029-fcfc9499-cd0f-45a2-8fbb-dd0be6e2e6b2",
    "deepnote_cell_height": 534,
    "deepnote_cell_type": "code",
    "deepnote_output_heights": [
     406
    ],
    "deepnote_to_be_reexecuted": false,
    "execution": {
     "iopub.execute_input": "2023-07-26T02:37:23.475842Z",
     "iopub.status.busy": "2023-07-26T02:37:23.475566Z",
     "iopub.status.idle": "2023-07-26T02:37:23.772225Z",
     "shell.execute_reply": "2023-07-26T02:37:23.771467Z"
    },
    "execution_millis": 339,
    "execution_start": 1665162313454,
    "source_hash": "172a869a"
   },
   "outputs": [
    {
     "data": {
      "image/png": "[encoded data removed]",
      "text/plain": [
       "<Figure size 1000x500 with 1 Axes>"
      ]
     },
     "metadata": {},
     "output_type": "display_data"
    }
   ],
   "source": [
    "fig, ax = plt.subplots(figsize=(10, 5)) \n",
    "stcl_balance.plot_tree(ax=ax, fontsize=20)\n",
    "plt.show()"
   ]
  },
  {
   "attachments": {},
   "cell_type": "markdown",
   "metadata": {
    "cell_id": "865b4df0febc481c969fa433a07f1bce",
    "deepnote_cell_height": 96,
    "deepnote_cell_type": "markdown",
    "tags": []
   },
   "source": [
    "As we can see, when we maximize accuracy, i.e., when `obj_mode = 'acc'`, the optimal tree is just a single node without branching, predicting the majority class for the whole dataset. But when we change the objective mode to balanced accuracy, we account for the minority class by sacrificing the overal accuracy."
   ]
  },
  {
   "attachments": {},
   "cell_type": "markdown",
   "metadata": {
    "cell_id": "00030-39a05aae-4523-463e-9663-653630a031c9",
    "deepnote_cell_height": 130,
    "deepnote_cell_type": "markdown",
    "deepnote_to_be_reexecuted": false,
    "execution_millis": 4,
    "execution_start": 1652396285618,
    "source_hash": "55e6949"
   },
   "source": [
    "## Example 3: UCI Data Example\n",
    "\n",
    "In this section, we fit a tree of depth 3 on a real world dataset called the [`balance` dataset](https://archive.ics.uci.edu/ml/datasets/Balance+Scale) from the UCI Machine Learning repository. "
   ]
  },
  {
   "cell_type": "code",
   "execution_count": 21,
   "metadata": {
    "cell_id": "ae66c5fdc7fe4dee9509176ae7738b03",
    "deepnote_cell_height": 112,
    "deepnote_cell_type": "code",
    "deepnote_to_be_reexecuted": false,
    "execution": {
     "iopub.execute_input": "2023-07-26T02:37:23.775801Z",
     "iopub.status.busy": "2023-07-26T02:37:23.775422Z",
     "iopub.status.idle": "2023-07-26T02:37:23.779133Z",
     "shell.execute_reply": "2023-07-26T02:37:23.778315Z"
    },
    "execution_millis": 9,
    "execution_start": 1663084101706,
    "source_hash": "459cf272",
    "tags": []
   },
   "outputs": [],
   "source": [
    "import pandas as pd\n",
    "from sklearn.model_selection import train_test_split\n",
    "from odtlearn.datasets import balance_scale_data"
   ]
  },
  {
   "cell_type": "code",
   "execution_count": 22,
   "metadata": {
    "cell_id": "e586d484fc394bd6ae9e1c9c7423ad77",
    "deepnote_cell_height": 269,
    "deepnote_cell_type": "code",
    "deepnote_output_heights": [
     null,
     77
    ],
    "deepnote_to_be_reexecuted": false,
    "execution": {
     "iopub.execute_input": "2023-07-26T02:37:23.782888Z",
     "iopub.status.busy": "2023-07-26T02:37:23.782559Z",
     "iopub.status.idle": "2023-07-26T02:37:23.793998Z",
     "shell.execute_reply": "2023-07-26T02:37:23.793219Z"
    },
    "execution_millis": 4,
    "execution_start": 1663084101759,
    "source_hash": "f97169ac",
    "tags": []
   },
   "outputs": [
    {
     "name": "stdout",
     "output_type": "stream",
     "text": [
      "shape(625, 21)\n"
     ]
    },
    {
     "data": {
      "text/plain": [
       "Index(['V2.1', 'V2.2', 'V2.3', 'V2.4', 'V2.5', 'V3.1', 'V3.2', 'V3.3', 'V3.4',\n",
       "       'V3.5', 'V4.1', 'V4.2', 'V4.3', 'V4.4', 'V4.5', 'V5.1', 'V5.2', 'V5.3',\n",
       "       'V5.4', 'V5.5', 'target'],\n",
       "      dtype='object')"
      ]
     },
     "execution_count": 22,
     "metadata": {},
     "output_type": "execute_result"
    }
   ],
   "source": [
    "# read data\n",
    "data = balance_scale_data()\n",
    "print(f\"shape{data.shape}\")\n",
    "data.columns"
   ]
  },
  {
   "cell_type": "code",
   "execution_count": 23,
   "metadata": {
    "cell_id": "80dbfabf721c4008b103b519b2323c01",
    "deepnote_cell_height": 148,
    "deepnote_cell_type": "code",
    "deepnote_to_be_reexecuted": false,
    "execution": {
     "iopub.execute_input": "2023-07-26T02:37:23.797602Z",
     "iopub.status.busy": "2023-07-26T02:37:23.796797Z",
     "iopub.status.idle": "2023-07-26T02:37:23.803838Z",
     "shell.execute_reply": "2023-07-26T02:37:23.802957Z"
    },
    "execution_millis": 0,
    "execution_start": 1663084101760,
    "source_hash": "5e03a259",
    "tags": []
   },
   "outputs": [],
   "source": [
    "y = data.pop(\"target\")\n",
    "\n",
    "X_train, X_test, y_train, y_test = train_test_split(\n",
    "    data, y, test_size=0.33, random_state=42\n",
    ")"
   ]
  },
  {
   "cell_type": "code",
   "execution_count": 24,
   "metadata": {
    "cell_id": "d4144975f0c94c40853a81dff20c53fa",
    "deepnote_cell_height": 256,
    "deepnote_cell_type": "code",
    "deepnote_output_heights": [
     20
    ],
    "deepnote_to_be_reexecuted": false,
    "execution": {
     "iopub.execute_input": "2023-07-26T02:37:23.806821Z",
     "iopub.status.busy": "2023-07-26T02:37:23.806296Z",
     "iopub.status.idle": "2023-07-26T02:38:23.888000Z",
     "shell.execute_reply": "2023-07-26T02:38:23.886946Z"
    },
    "execution_millis": 60948,
    "execution_start": 1663084101761,
    "source_hash": "a44a256e",
    "tags": []
   },
   "outputs": [
    {
     "data": {
      "text/plain": [
       "BendersOCT(solver=cbc,depth=3,time_limit=60,num_threads=None,verbose=False)"
      ]
     },
     "execution_count": 24,
     "metadata": {},
     "output_type": "execute_result"
    }
   ],
   "source": [
    "stcl = BendersOCT(solver=\"cbc\", depth=3, time_limit=60, num_threads=None, obj_mode=\"acc\")\n",
    "\n",
    "stcl.fit(X_train, y_train)"
   ]
  },
  {
   "cell_type": "code",
   "execution_count": 25,
   "metadata": {
    "cell_id": "3d2dd737745047ee8dc047326a93975b",
    "deepnote_cell_height": 687,
    "deepnote_cell_type": "code",
    "deepnote_to_be_reexecuted": false,
    "execution": {
     "iopub.execute_input": "2023-07-26T02:38:23.892065Z",
     "iopub.status.busy": "2023-07-26T02:38:23.891415Z",
     "iopub.status.idle": "2023-07-26T02:38:23.898740Z",
     "shell.execute_reply": "2023-07-26T02:38:23.897890Z"
    },
    "execution_millis": 907,
    "execution_start": 1663084161863,
    "source_hash": "2f43d041",
    "tags": []
   },
   "outputs": [
    {
     "name": "stdout",
     "output_type": "stream",
     "text": [
      "#########node  1\n",
      "branch on V4.2\n",
      "#########node  2\n",
      "branch on V2.5\n",
      "#########node  3\n",
      "branch on V2.5\n",
      "#########node  4\n",
      "branch on V3.5\n",
      "#########node  5\n",
      "branch on V2.3\n",
      "#########node  6\n",
      "branch on V5.4\n",
      "#########node  7\n",
      "branch on V2.1\n",
      "#########node  8\n",
      "leaf 3\n",
      "#########node  9\n",
      "leaf 2\n",
      "#########node  10\n",
      "leaf 2\n",
      "#########node  11\n",
      "leaf 1\n",
      "#########node  12\n",
      "leaf 2\n",
      "#########node  13\n",
      "leaf 3\n",
      "#########node  14\n",
      "leaf 2\n",
      "#########node  15\n",
      "leaf 3\n"
     ]
    }
   ],
   "source": [
    "stcl.print_tree()"
   ]
  },
  {
   "cell_type": "code",
   "execution_count": 26,
   "metadata": {
    "cell_id": "2e6ec3df59ad4d34894820b67bffa4a1",
    "deepnote_cell_height": 548.234375,
    "deepnote_cell_type": "code",
    "deepnote_output_heights": [
     420.234375
    ],
    "deepnote_to_be_reexecuted": false,
    "execution": {
     "iopub.execute_input": "2023-07-26T02:38:23.901841Z",
     "iopub.status.busy": "2023-07-26T02:38:23.901600Z",
     "iopub.status.idle": "2023-07-26T02:38:24.696464Z",
     "shell.execute_reply": "2023-07-26T02:38:24.695525Z"
    },
    "execution_millis": 926,
    "execution_start": 1663084161864,
    "source_hash": "2b611b71",
    "tags": []
   },
   "outputs": [
    {
     "data": {
      "image/png": "[encoded data removed]",
      "text/plain": [
       "<Figure size 2000x1000 with 1 Axes>"
      ]
     },
     "metadata": {},
     "output_type": "display_data"
    }
   ],
   "source": [
    "fig, ax = plt.subplots(figsize=(20, 10))\n",
    "stcl.plot_tree(ax=ax, fontsize=20, color_dict={\"node\": None, \"leaves\": []})\n",
    "plt.show()"
   ]
  },
  {
   "cell_type": "code",
   "execution_count": 27,
   "metadata": {
    "cell_id": "bea1c5b861094c5fa731c1b08beb4bd2",
    "deepnote_cell_height": 125,
    "deepnote_cell_type": "code",
    "deepnote_to_be_reexecuted": false,
    "execution": {
     "iopub.execute_input": "2023-07-26T02:38:24.700323Z",
     "iopub.status.busy": "2023-07-26T02:38:24.699833Z",
     "iopub.status.idle": "2023-07-26T02:38:24.758909Z",
     "shell.execute_reply": "2023-07-26T02:38:24.757768Z"
    },
    "execution_millis": 371,
    "execution_start": 1663084162420,
    "source_hash": "73804030",
    "tags": []
   },
   "outputs": [
    {
     "name": "stdout",
     "output_type": "stream",
     "text": [
      "The out-of-sample accuracy is 0.5797101449275363\n"
     ]
    }
   ],
   "source": [
    "test_pred = stcl.predict(X_test)\n",
    "print('The out-of-sample accuracy is {}'.format(np.sum(test_pred==y_test)/y_test.shape[0]))"
   ]
  },
  {
   "attachments": {},
   "cell_type": "markdown",
   "metadata": {
    "cell_id": "2181319eebc9479299ad724c6909ad78",
    "deepnote_cell_height": 203,
    "deepnote_cell_type": "markdown",
    "tags": []
   },
   "source": [
    "## References\n",
    "* Dua, D. and Graff, C. (2019). [UCI Machine Learning Repository](http://archive.ics.uci.edu/ml). Irvine, CA: University of California, School of Information and Computer Science.\n",
    "* Aghaei, S., Gómez, A., & Vayanos, P. (2021). Strong optimal classification trees. arXiv preprint arXiv:2103.15965. https://arxiv.org/abs/2103.15965."
   ]
  }
 ],
 "metadata": {
  "deepnote": {},
  "deepnote_execution_queue": [],
  "deepnote_notebook_id": "a83b9a97-2562-44d2-acd9-6ff55c94ce73",
  "interpreter": {
   "hash": "dfaf93ad87348b32221474fd3c800e01f580d105683f49be3d64b58d8896a56c"
  },
  "kernelspec": {
   "display_name": "Python 3 (ipykernel)",
   "language": "python",
   "name": "python3"
  },
  "language_info": {
   "codemirror_mode": {
    "name": "ipython",
    "version": 3
   },
   "file_extension": ".py",
   "mimetype": "text/x-python",
   "name": "python",
   "nbconvert_exporter": "python",
   "pygments_lexer": "ipython3",
   "version": "3.8.2"
  }
 },
 "nbformat": 4,
 "nbformat_minor": 4
}
