{
 "cells": [
  {
   "attachments": {},
   "cell_type": "markdown",
   "id": "373fd5ec",
   "metadata": {
    "cell_id": "dc6f466fd2994dbc80cf4e4da3be362f",
    "deepnote_cell_height": 83.5,
    "deepnote_cell_type": "markdown",
    "tags": []
   },
   "source": [
    "# `RobustTreeClassifier` Examples"
   ]
  },
  {
   "attachments": {},
   "cell_type": "markdown",
   "id": "65b403f6",
   "metadata": {
    "cell_id": "00001-5aa34266-f09d-41a6-aea8-7d1b5d36257a",
    "deepnote_cell_height": 144.796875,
    "deepnote_cell_type": "markdown",
    "owner_user_id": "3c75c737-6c37-465a-aa9b-4b298c75816b"
   },
   "source": [
    "<!-- <font size=\"3.5\">We use a tailored Benders decomposition algorithm to solve this formulation:\n",
    "</font>\n",
    "\n",
    "\n",
    "<p align=\"left\">\n",
    "    <img src=\"./odtlearn/docs/_static/img/robust_algorithm.png\" alt=\"robust_algorithm\" style=\"width:500px;\"/>\n",
    "</p>  -->\n",
    "\n",
    "## Example 1: Synthetic Data Without Specified Shifts\n",
    "If costs and/or budget is not specified, then we will produce the same result as an optimal strong classification tree.\n",
    "\n",
    "As an example, say that we are given this training set:"
   ]
  },
  {
   "cell_type": "code",
   "execution_count": 1,
   "id": "22254eb6",
   "metadata": {
    "cell_id": "00002-ec1b8b46-8347-44be-88eb-d2c0ff104528",
    "deepnote_cell_height": 508,
    "deepnote_cell_type": "code",
    "deepnote_to_be_reexecuted": false,
    "execution": {
     "iopub.execute_input": "2023-07-26T02:59:11.899017Z",
     "iopub.status.busy": "2023-07-26T02:59:11.898327Z",
     "iopub.status.idle": "2023-07-26T02:59:12.594540Z",
     "shell.execute_reply": "2023-07-26T02:59:12.593203Z"
    },
    "execution_millis": 1198,
    "execution_start": 1664769662078,
    "source_hash": "986acf91"
   },
   "outputs": [],
   "source": [
    "import numpy as np\n",
    "import pandas as pd\n",
    "import matplotlib.pyplot as plt\n",
    "\n",
    "\"\"\"\n",
    "    X2\n",
    "    |               |\n",
    "    |               |\n",
    "    1    + +        |    -\n",
    "    |               |   \n",
    "    |---------------|-------------\n",
    "    |               |\n",
    "    0    - - - -    |    + + +\n",
    "    |    - - -      |\n",
    "    |______0________|_______1_______X1\n",
    "\"\"\"\n",
    "X = np.array(\n",
    "    [\n",
    "        [0, 0],\n",
    "        [0, 0],\n",
    "        [0, 0],\n",
    "        [0, 0],\n",
    "        [0, 0],\n",
    "        [0, 0],\n",
    "        [0, 0],\n",
    "        [1, 0],\n",
    "        [1, 0],\n",
    "        [1, 0],\n",
    "        [1, 1],\n",
    "        [0, 1],\n",
    "        [0, 1],\n",
    "    ]\n",
    ")\n",
    "X = pd.DataFrame(X, columns=[\"X1\", \"X2\"])\n",
    "\n",
    "y = np.array([0, 0, 0, 0, 0, 0, 0, 1, 1, 1, 0, 1, 1])"
   ]
  },
  {
   "attachments": {},
   "cell_type": "markdown",
   "id": "87b66e70",
   "metadata": {
    "cell_id": "f5d869ce3ae0415ca6b86aab044f6460",
    "deepnote_cell_height": 74.796875,
    "deepnote_cell_type": "markdown",
    "owner_user_id": "2bc00ffa-8da0-4406-b26d-9986ca85f208",
    "tags": []
   },
   "source": [
    "If either `costs` or `budget` is not specified, the optimal classification tree will be produced (i.e., a tree that does not account for distribution shifts)."
   ]
  },
  {
   "cell_type": "code",
   "execution_count": 2,
   "id": "bccf620c",
   "metadata": {
    "cell_id": "00003-ba6613f0-07d0-4855-badb-8ab0fcfd487c",
    "deepnote_cell_height": 250.6875,
    "deepnote_cell_type": "code",
    "deepnote_to_be_reexecuted": false,
    "execution": {
     "iopub.execute_input": "2023-07-26T02:59:12.600112Z",
     "iopub.status.busy": "2023-07-26T02:59:12.599744Z",
     "iopub.status.idle": "2023-07-26T03:00:13.849922Z",
     "shell.execute_reply": "2023-07-26T03:00:13.848942Z"
    },
    "execution_millis": 565,
    "execution_start": 1664769682643,
    "scrolled": true,
    "source_hash": "7db50d93"
   },
   "outputs": [
    {
     "name": "stdout",
     "output_type": "stream",
     "text": [
      "/usr/local/lib/python3.8/site-packages/mip/libraries/cbc-c-linux-x86-64.so\n"
     ]
    },
    {
     "ename": "TypeError",
     "evalue": "'>' not supported between instances of 'NoneType' and 'float'",
     "output_type": "error",
     "traceback": [
      "\u001b[0;31m---------------------------------------------------------------------------\u001b[0m",
      "\u001b[0;31mTypeError\u001b[0m                                 Traceback (most recent call last)",
      "Cell \u001b[0;32mIn[2], line 9\u001b[0m\n\u001b[1;32m      3\u001b[0m robust_classifier \u001b[38;5;241m=\u001b[39m RobustOCT(\n\u001b[1;32m      4\u001b[0m         solver\u001b[38;5;241m=\u001b[39m\u001b[38;5;124m\"\u001b[39m\u001b[38;5;124mcbc\u001b[39m\u001b[38;5;124m\"\u001b[39m,\n\u001b[1;32m      5\u001b[0m         depth \u001b[38;5;241m=\u001b[39m \u001b[38;5;241m2\u001b[39m, \n\u001b[1;32m      6\u001b[0m         time_limit \u001b[38;5;241m=\u001b[39m \u001b[38;5;241m60\u001b[39m\n\u001b[1;32m      7\u001b[0m     )\n\u001b[1;32m      8\u001b[0m robust_classifier\u001b[38;5;241m.\u001b[39mfit(X, y)\n\u001b[0;32m----> 9\u001b[0m predictions \u001b[38;5;241m=\u001b[39m \u001b[43mrobust_classifier\u001b[49m\u001b[38;5;241;43m.\u001b[39;49m\u001b[43mpredict\u001b[49m\u001b[43m(\u001b[49m\u001b[43mX\u001b[49m\u001b[43m)\u001b[49m\n",
      "File \u001b[0;32m/usr/local/lib/python3.8/site-packages/odtlearn/robust_oct.py:342\u001b[0m, in \u001b[0;36mRobustOCT.predict\u001b[0;34m(self, X)\u001b[0m\n\u001b[1;32m    339\u001b[0m df_test \u001b[38;5;241m=\u001b[39m check_same_as_X(\u001b[38;5;28mself\u001b[39m\u001b[38;5;241m.\u001b[39m_X, \u001b[38;5;28mself\u001b[39m\u001b[38;5;241m.\u001b[39m_X_col_labels, X, \u001b[38;5;124m\"\u001b[39m\u001b[38;5;124mtest covariates\u001b[39m\u001b[38;5;124m\"\u001b[39m)\n\u001b[1;32m    340\u001b[0m check_integer(df_test)\n\u001b[0;32m--> 342\u001b[0m \u001b[38;5;28;01mreturn\u001b[39;00m \u001b[38;5;28;43mself\u001b[39;49m\u001b[38;5;241;43m.\u001b[39;49m\u001b[43m_make_prediction\u001b[49m\u001b[43m(\u001b[49m\u001b[43mdf_test\u001b[49m\u001b[43m)\u001b[49m\n",
      "File \u001b[0;32m/usr/local/lib/python3.8/site-packages/odtlearn/robust_oct.py:127\u001b[0m, in \u001b[0;36mRobustOCT._make_prediction\u001b[0;34m(self, X)\u001b[0m\n\u001b[1;32m    125\u001b[0m terminal \u001b[38;5;241m=\u001b[39m \u001b[38;5;28;01mFalse\u001b[39;00m\n\u001b[1;32m    126\u001b[0m \u001b[38;5;28;01mfor\u001b[39;00m k \u001b[38;5;129;01min\u001b[39;00m \u001b[38;5;28mself\u001b[39m\u001b[38;5;241m.\u001b[39m_labels:\n\u001b[0;32m--> 127\u001b[0m     \u001b[38;5;28;01mif\u001b[39;00m \u001b[38;5;28;43mself\u001b[39;49m\u001b[38;5;241;43m.\u001b[39;49m\u001b[43mw_value\u001b[49m\u001b[43m[\u001b[49m\u001b[43mnode\u001b[49m\u001b[43m,\u001b[49m\u001b[43m \u001b[49m\u001b[43mk\u001b[49m\u001b[43m]\u001b[49m\u001b[43m \u001b[49m\u001b[38;5;241;43m>\u001b[39;49m\u001b[43m \u001b[49m\u001b[38;5;241;43m0.5\u001b[39;49m:  \u001b[38;5;66;03m# w[n,k] == 1\u001b[39;00m\n\u001b[1;32m    128\u001b[0m         prediction \u001b[38;5;241m+\u001b[39m\u001b[38;5;241m=\u001b[39m [k]\n\u001b[1;32m    129\u001b[0m         terminal \u001b[38;5;241m=\u001b[39m \u001b[38;5;28;01mTrue\u001b[39;00m\n",
      "\u001b[0;31mTypeError\u001b[0m: '>' not supported between instances of 'NoneType' and 'float'"
     ]
    }
   ],
   "source": [
    "from odtlearn.robust_oct import RobustOCT\n",
    " \n",
    "robust_classifier = RobustOCT(\n",
    "        solver=\"cbc\",\n",
    "        depth = 2, \n",
    "        time_limit = 60\n",
    "    )\n",
    "robust_classifier.fit(X, y)\n",
    "predictions = robust_classifier.predict(X)\n"
   ]
  },
  {
   "cell_type": "code",
   "execution_count": 3,
   "id": "4f7e4e06",
   "metadata": {
    "cell_id": "8504ebdbd679412689f83492cd8f7a4f",
    "deepnote_cell_height": 362.734375,
    "deepnote_cell_type": "code",
    "deepnote_to_be_reexecuted": false,
    "execution": {
     "iopub.execute_input": "2023-07-26T03:00:13.854200Z",
     "iopub.status.busy": "2023-07-26T03:00:13.853633Z",
     "iopub.status.idle": "2023-07-26T03:00:13.896336Z",
     "shell.execute_reply": "2023-07-26T03:00:13.895342Z"
    },
    "execution_millis": 357,
    "execution_start": 1664769689116,
    "source_hash": "a3f1115a",
    "tags": []
   },
   "outputs": [
    {
     "name": "stdout",
     "output_type": "stream",
     "text": [
      "#########node  1\n"
     ]
    },
    {
     "ename": "TypeError",
     "evalue": "'>' not supported between instances of 'NoneType' and 'float'",
     "output_type": "error",
     "traceback": [
      "\u001b[0;31m---------------------------------------------------------------------------\u001b[0m",
      "\u001b[0;31mTypeError\u001b[0m                                 Traceback (most recent call last)",
      "Cell \u001b[0;32mIn[3], line 1\u001b[0m\n\u001b[0;32m----> 1\u001b[0m \u001b[43mrobust_classifier\u001b[49m\u001b[38;5;241;43m.\u001b[39;49m\u001b[43mprint_tree\u001b[49m\u001b[43m(\u001b[49m\u001b[43m)\u001b[49m\n",
      "File \u001b[0;32m/usr/local/lib/python3.8/site-packages/odtlearn/robust_oct.py:358\u001b[0m, in \u001b[0;36mRobustOCT.print_tree\u001b[0;34m(self)\u001b[0m\n\u001b[1;32m    355\u001b[0m     \u001b[38;5;28;01mcontinue\u001b[39;00m\n\u001b[1;32m    357\u001b[0m \u001b[38;5;28;01mfor\u001b[39;00m k \u001b[38;5;129;01min\u001b[39;00m \u001b[38;5;28mself\u001b[39m\u001b[38;5;241m.\u001b[39m_labels:\n\u001b[0;32m--> 358\u001b[0m     \u001b[38;5;28;01mif\u001b[39;00m \u001b[38;5;28;43mself\u001b[39;49m\u001b[38;5;241;43m.\u001b[39;49m\u001b[43mw_value\u001b[49m\u001b[43m[\u001b[49m\u001b[43mn\u001b[49m\u001b[43m,\u001b[49m\u001b[43m \u001b[49m\u001b[43mk\u001b[49m\u001b[43m]\u001b[49m\u001b[43m \u001b[49m\u001b[38;5;241;43m>\u001b[39;49m\u001b[43m \u001b[49m\u001b[38;5;241;43m0.5\u001b[39;49m:\n\u001b[1;32m    359\u001b[0m         \u001b[38;5;28mprint\u001b[39m(\u001b[38;5;124m\"\u001b[39m\u001b[38;5;124mleaf \u001b[39m\u001b[38;5;132;01m{}\u001b[39;00m\u001b[38;5;124m\"\u001b[39m\u001b[38;5;241m.\u001b[39mformat(k))\n\u001b[1;32m    360\u001b[0m         terminal \u001b[38;5;241m=\u001b[39m \u001b[38;5;28;01mTrue\u001b[39;00m\n",
      "\u001b[0;31mTypeError\u001b[0m: '>' not supported between instances of 'NoneType' and 'float'"
     ]
    }
   ],
   "source": [
    "robust_classifier.print_tree()"
   ]
  },
  {
   "cell_type": "code",
   "execution_count": 4,
   "id": "95997b6a",
   "metadata": {
    "cell_id": "272908eee5d346a3b82cf3a0aa62c4e1",
    "deepnote_cell_height": 552,
    "deepnote_cell_type": "code",
    "deepnote_output_heights": [
     406
    ],
    "deepnote_to_be_reexecuted": false,
    "execution": {
     "iopub.execute_input": "2023-07-26T03:00:13.902088Z",
     "iopub.status.busy": "2023-07-26T03:00:13.901480Z",
     "iopub.status.idle": "2023-07-26T03:00:14.197709Z",
     "shell.execute_reply": "2023-07-26T03:00:14.196601Z"
    },
    "execution_millis": 1265,
    "execution_start": 1664769691141,
    "source_hash": "f06c109e",
    "tags": []
   },
   "outputs": [
    {
     "ename": "TypeError",
     "evalue": "'>' not supported between instances of 'NoneType' and 'float'",
     "output_type": "error",
     "traceback": [
      "\u001b[0;31m---------------------------------------------------------------------------\u001b[0m",
      "\u001b[0;31mTypeError\u001b[0m                                 Traceback (most recent call last)",
      "Cell \u001b[0;32mIn[4], line 2\u001b[0m\n\u001b[1;32m      1\u001b[0m fig, ax \u001b[38;5;241m=\u001b[39m plt\u001b[38;5;241m.\u001b[39msubplots(figsize\u001b[38;5;241m=\u001b[39m(\u001b[38;5;241m10\u001b[39m, \u001b[38;5;241m5\u001b[39m))\n\u001b[0;32m----> 2\u001b[0m \u001b[43mrobust_classifier\u001b[49m\u001b[38;5;241;43m.\u001b[39;49m\u001b[43mplot_tree\u001b[49m\u001b[43m(\u001b[49m\u001b[43m)\u001b[49m\n\u001b[1;32m      3\u001b[0m plt\u001b[38;5;241m.\u001b[39mshow()\n",
      "File \u001b[0;32m/usr/local/lib/python3.8/site-packages/odtlearn/robust_oct.py:423\u001b[0m, in \u001b[0;36mRobustOCT.plot_tree\u001b[0;34m(self, label, filled, rounded, precision, ax, fontsize, color_dict, edge_annotation, arrow_annotation_font_scale, debug)\u001b[0m\n\u001b[1;32m    421\u001b[0m node_dict \u001b[38;5;241m=\u001b[39m {}\n\u001b[1;32m    422\u001b[0m \u001b[38;5;28;01mfor\u001b[39;00m node \u001b[38;5;129;01min\u001b[39;00m np\u001b[38;5;241m.\u001b[39marange(\u001b[38;5;241m1\u001b[39m, \u001b[38;5;28mself\u001b[39m\u001b[38;5;241m.\u001b[39m_tree\u001b[38;5;241m.\u001b[39mtotal_nodes \u001b[38;5;241m+\u001b[39m \u001b[38;5;241m1\u001b[39m):\n\u001b[0;32m--> 423\u001b[0m     node_dict[node] \u001b[38;5;241m=\u001b[39m \u001b[38;5;28;43mself\u001b[39;49m\u001b[38;5;241;43m.\u001b[39;49m\u001b[43m_get_node_status\u001b[49m\u001b[43m(\u001b[49m\u001b[38;5;28;43mself\u001b[39;49m\u001b[38;5;241;43m.\u001b[39;49m\u001b[43mb_value\u001b[49m\u001b[43m,\u001b[49m\u001b[43m \u001b[49m\u001b[38;5;28;43mself\u001b[39;49m\u001b[38;5;241;43m.\u001b[39;49m\u001b[43mw_value\u001b[49m\u001b[43m,\u001b[49m\u001b[43m \u001b[49m\u001b[43mnode\u001b[49m\u001b[43m)\u001b[49m\n\u001b[1;32m    425\u001b[0m exporter \u001b[38;5;241m=\u001b[39m MPLPlotter(\n\u001b[1;32m    426\u001b[0m     \u001b[38;5;28mself\u001b[39m\u001b[38;5;241m.\u001b[39m_tree,\n\u001b[1;32m    427\u001b[0m     node_dict,\n\u001b[0;32m   (...)\u001b[0m\n\u001b[1;32m    440\u001b[0m     debug\u001b[38;5;241m=\u001b[39mdebug,\n\u001b[1;32m    441\u001b[0m )\n\u001b[1;32m    442\u001b[0m \u001b[38;5;28;01mreturn\u001b[39;00m exporter\u001b[38;5;241m.\u001b[39mexport(ax\u001b[38;5;241m=\u001b[39max)\n",
      "File \u001b[0;32m/usr/local/lib/python3.8/site-packages/odtlearn/robust_oct.py:102\u001b[0m, in \u001b[0;36mRobustOCT._get_node_status\u001b[0;34m(self, b, w, n)\u001b[0m\n\u001b[1;32m     99\u001b[0m     p_sum \u001b[38;5;241m+\u001b[39m\u001b[38;5;241m=\u001b[39m \u001b[38;5;28msum\u001b[39m(w[m, k] \u001b[38;5;28;01mfor\u001b[39;00m k \u001b[38;5;129;01min\u001b[39;00m \u001b[38;5;28mself\u001b[39m\u001b[38;5;241m.\u001b[39m_labels)\n\u001b[1;32m    100\u001b[0m \u001b[38;5;66;03m# to determine if a leaf, we look at its w value\u001b[39;00m\n\u001b[1;32m    101\u001b[0m \u001b[38;5;66;03m# and find for which label the value > 0.5\u001b[39;00m\n\u001b[0;32m--> 102\u001b[0m col_idx \u001b[38;5;241m=\u001b[39m np\u001b[38;5;241m.\u001b[39masarray([w[n, k] \u001b[38;5;241m>\u001b[39m \u001b[38;5;241m0.5\u001b[39m \u001b[38;5;28;01mfor\u001b[39;00m k \u001b[38;5;129;01min\u001b[39;00m \u001b[38;5;28mself\u001b[39m\u001b[38;5;241m.\u001b[39m_labels])\u001b[38;5;241m.\u001b[39mnonzero()[\u001b[38;5;241m0\u001b[39m]\n\u001b[1;32m    103\u001b[0m \u001b[38;5;66;03m# col_idx = np.asarray(w[n, :] > 0.5).nonzero().flatten()\u001b[39;00m\n\u001b[1;32m    104\u001b[0m \u001b[38;5;66;03m# assuming here that we can only have one column > 0.5\u001b[39;00m\n\u001b[1;32m    105\u001b[0m \u001b[38;5;28;01mif\u001b[39;00m \u001b[38;5;28mlen\u001b[39m(col_idx) \u001b[38;5;241m>\u001b[39m \u001b[38;5;241m0\u001b[39m:\n",
      "File \u001b[0;32m/usr/local/lib/python3.8/site-packages/odtlearn/robust_oct.py:102\u001b[0m, in \u001b[0;36m<listcomp>\u001b[0;34m(.0)\u001b[0m\n\u001b[1;32m     99\u001b[0m     p_sum \u001b[38;5;241m+\u001b[39m\u001b[38;5;241m=\u001b[39m \u001b[38;5;28msum\u001b[39m(w[m, k] \u001b[38;5;28;01mfor\u001b[39;00m k \u001b[38;5;129;01min\u001b[39;00m \u001b[38;5;28mself\u001b[39m\u001b[38;5;241m.\u001b[39m_labels)\n\u001b[1;32m    100\u001b[0m \u001b[38;5;66;03m# to determine if a leaf, we look at its w value\u001b[39;00m\n\u001b[1;32m    101\u001b[0m \u001b[38;5;66;03m# and find for which label the value > 0.5\u001b[39;00m\n\u001b[0;32m--> 102\u001b[0m col_idx \u001b[38;5;241m=\u001b[39m np\u001b[38;5;241m.\u001b[39masarray([\u001b[43mw\u001b[49m\u001b[43m[\u001b[49m\u001b[43mn\u001b[49m\u001b[43m,\u001b[49m\u001b[43m \u001b[49m\u001b[43mk\u001b[49m\u001b[43m]\u001b[49m\u001b[43m \u001b[49m\u001b[38;5;241;43m>\u001b[39;49m\u001b[43m \u001b[49m\u001b[38;5;241;43m0.5\u001b[39;49m \u001b[38;5;28;01mfor\u001b[39;00m k \u001b[38;5;129;01min\u001b[39;00m \u001b[38;5;28mself\u001b[39m\u001b[38;5;241m.\u001b[39m_labels])\u001b[38;5;241m.\u001b[39mnonzero()[\u001b[38;5;241m0\u001b[39m]\n\u001b[1;32m    103\u001b[0m \u001b[38;5;66;03m# col_idx = np.asarray(w[n, :] > 0.5).nonzero().flatten()\u001b[39;00m\n\u001b[1;32m    104\u001b[0m \u001b[38;5;66;03m# assuming here that we can only have one column > 0.5\u001b[39;00m\n\u001b[1;32m    105\u001b[0m \u001b[38;5;28;01mif\u001b[39;00m \u001b[38;5;28mlen\u001b[39m(col_idx) \u001b[38;5;241m>\u001b[39m \u001b[38;5;241m0\u001b[39m:\n",
      "\u001b[0;31mTypeError\u001b[0m: '>' not supported between instances of 'NoneType' and 'float'"
     ]
    },
    {
     "data": {
      "image/png": "[encoded data removed]",
      "text/plain": [
       "<Figure size 1000x500 with 1 Axes>"
      ]
     },
     "metadata": {},
     "output_type": "display_data"
    }
   ],
   "source": [
    "fig, ax = plt.subplots(figsize=(10, 5))\n",
    "robust_classifier.plot_tree()\n",
    "plt.show()"
   ]
  },
  {
   "attachments": {},
   "cell_type": "markdown",
   "id": "b73ea5f5",
   "metadata": {
    "cell_id": "00004-c066bdea-caf9-4089-9fa1-ee2e8d323ad6",
    "deepnote_cell_height": 231.984375,
    "deepnote_cell_type": "markdown"
   },
   "source": [
    "## Example 2: synthetic data with specified shifts\n",
    "\n",
    "We take the same synthetic data from Example 1, but now add distribution shifts with the following schema:\n",
    "- For 5 samples at $[0,0]$, pay a cost of 1 to perturb $X_1$ and get $[1,0]$\n",
    "- For the 1 sample at $[1,1]$, pay a cost of 1 to perturb $X_2$ to get $[1,0]$\n",
    "- All other perturbations are not allowed\n",
    "\n",
    "First, define these costs, which have the same shape and features as your input sample."
   ]
  },
  {
   "cell_type": "code",
   "execution_count": 5,
   "id": "5816b3a0",
   "metadata": {
    "cell_id": "00005-ec8f4aac-e1c1-486b-a079-6d46a8a9ef3b",
    "deepnote_cell_height": 166,
    "deepnote_cell_type": "code",
    "deepnote_to_be_reexecuted": false,
    "execution": {
     "iopub.execute_input": "2023-07-26T03:00:14.202296Z",
     "iopub.status.busy": "2023-07-26T03:00:14.201645Z",
     "iopub.status.idle": "2023-07-26T03:00:14.207772Z",
     "shell.execute_reply": "2023-07-26T03:00:14.206944Z"
    },
    "execution_millis": 1,
    "execution_start": 1664769701276,
    "source_hash": "92e9e3b9"
   },
   "outputs": [],
   "source": [
    "# Note: 10 is a proxy for infinite cost, as it is over the allowed budgets we will specify\n",
    "costs = np.array([[1,10],[1,10],[1,10],[1,10],[1,10],[10,10],[10,10],\n",
    "                  [10,10],[10,10],[10,10],\n",
    "                  [10,1],\n",
    "                  [10,10],[10,10]])\n",
    "costs = pd.DataFrame(costs, columns=['X1', 'X2'])"
   ]
  },
  {
   "attachments": {},
   "cell_type": "markdown",
   "id": "e7a8b62b",
   "metadata": {
    "cell_id": "00006-17d04a3f-d99a-4770-8dd8-6a188182b3cb",
    "deepnote_cell_height": 74.796875,
    "deepnote_cell_type": "markdown"
   },
   "source": [
    "<!-- When the budget is 2 (corresponding to the variable &epsilon;), we don't see a change in the tree as the non-robust tree will have worst-case accuracy 11/13 and no other tree will have a better worst-case accuracy. -->\n",
    "When the budget is 2 (corresponding to the variable &epsilon;), we don't see a change in the tree from Example 1 since for this dataset, the budget is small and thus the level of robustness is small."
   ]
  },
  {
   "cell_type": "code",
   "execution_count": 6,
   "id": "1a79ac9d",
   "metadata": {
    "cell_id": "00007-e8bcdb8a-f74b-45a4-acd3-a7cb8592fb0a",
    "deepnote_cell_height": 400,
    "deepnote_cell_type": "code",
    "deepnote_to_be_reexecuted": false,
    "execution": {
     "iopub.execute_input": "2023-07-26T03:00:14.211779Z",
     "iopub.status.busy": "2023-07-26T03:00:14.211120Z",
     "iopub.status.idle": "2023-07-26T03:01:14.273625Z",
     "shell.execute_reply": "2023-07-26T03:01:14.272008Z"
    },
    "execution_millis": 308,
    "execution_start": 1664769713072,
    "scrolled": true,
    "source_hash": "9face3f"
   },
   "outputs": [
    {
     "ename": "TypeError",
     "evalue": "'>' not supported between instances of 'NoneType' and 'float'",
     "output_type": "error",
     "traceback": [
      "\u001b[0;31m---------------------------------------------------------------------------\u001b[0m",
      "\u001b[0;31mTypeError\u001b[0m                                 Traceback (most recent call last)",
      "Cell \u001b[0;32mIn[6], line 29\u001b[0m\n\u001b[1;32m     23\u001b[0m robust_classifier \u001b[38;5;241m=\u001b[39m RobustOCT(\n\u001b[1;32m     24\u001b[0m     solver\u001b[38;5;241m=\u001b[39m\u001b[38;5;124m\"\u001b[39m\u001b[38;5;124mcbc\u001b[39m\u001b[38;5;124m\"\u001b[39m,\n\u001b[1;32m     25\u001b[0m     depth\u001b[38;5;241m=\u001b[39m\u001b[38;5;241m2\u001b[39m,\n\u001b[1;32m     26\u001b[0m     time_limit\u001b[38;5;241m=\u001b[39m\u001b[38;5;241m60\u001b[39m,\n\u001b[1;32m     27\u001b[0m )\n\u001b[1;32m     28\u001b[0m robust_classifier\u001b[38;5;241m.\u001b[39mfit(X, y, costs\u001b[38;5;241m=\u001b[39mcosts, budget\u001b[38;5;241m=\u001b[39m\u001b[38;5;241m2\u001b[39m)\n\u001b[0;32m---> 29\u001b[0m predictions \u001b[38;5;241m=\u001b[39m \u001b[43mrobust_classifier\u001b[49m\u001b[38;5;241;43m.\u001b[39;49m\u001b[43mpredict\u001b[49m\u001b[43m(\u001b[49m\u001b[43mX\u001b[49m\u001b[43m)\u001b[49m\n",
      "File \u001b[0;32m/usr/local/lib/python3.8/site-packages/odtlearn/robust_oct.py:342\u001b[0m, in \u001b[0;36mRobustOCT.predict\u001b[0;34m(self, X)\u001b[0m\n\u001b[1;32m    339\u001b[0m df_test \u001b[38;5;241m=\u001b[39m check_same_as_X(\u001b[38;5;28mself\u001b[39m\u001b[38;5;241m.\u001b[39m_X, \u001b[38;5;28mself\u001b[39m\u001b[38;5;241m.\u001b[39m_X_col_labels, X, \u001b[38;5;124m\"\u001b[39m\u001b[38;5;124mtest covariates\u001b[39m\u001b[38;5;124m\"\u001b[39m)\n\u001b[1;32m    340\u001b[0m check_integer(df_test)\n\u001b[0;32m--> 342\u001b[0m \u001b[38;5;28;01mreturn\u001b[39;00m \u001b[38;5;28;43mself\u001b[39;49m\u001b[38;5;241;43m.\u001b[39;49m\u001b[43m_make_prediction\u001b[49m\u001b[43m(\u001b[49m\u001b[43mdf_test\u001b[49m\u001b[43m)\u001b[49m\n",
      "File \u001b[0;32m/usr/local/lib/python3.8/site-packages/odtlearn/robust_oct.py:127\u001b[0m, in \u001b[0;36mRobustOCT._make_prediction\u001b[0;34m(self, X)\u001b[0m\n\u001b[1;32m    125\u001b[0m terminal \u001b[38;5;241m=\u001b[39m \u001b[38;5;28;01mFalse\u001b[39;00m\n\u001b[1;32m    126\u001b[0m \u001b[38;5;28;01mfor\u001b[39;00m k \u001b[38;5;129;01min\u001b[39;00m \u001b[38;5;28mself\u001b[39m\u001b[38;5;241m.\u001b[39m_labels:\n\u001b[0;32m--> 127\u001b[0m     \u001b[38;5;28;01mif\u001b[39;00m \u001b[38;5;28;43mself\u001b[39;49m\u001b[38;5;241;43m.\u001b[39;49m\u001b[43mw_value\u001b[49m\u001b[43m[\u001b[49m\u001b[43mnode\u001b[49m\u001b[43m,\u001b[49m\u001b[43m \u001b[49m\u001b[43mk\u001b[49m\u001b[43m]\u001b[49m\u001b[43m \u001b[49m\u001b[38;5;241;43m>\u001b[39;49m\u001b[43m \u001b[49m\u001b[38;5;241;43m0.5\u001b[39;49m:  \u001b[38;5;66;03m# w[n,k] == 1\u001b[39;00m\n\u001b[1;32m    128\u001b[0m         prediction \u001b[38;5;241m+\u001b[39m\u001b[38;5;241m=\u001b[39m [k]\n\u001b[1;32m    129\u001b[0m         terminal \u001b[38;5;241m=\u001b[39m \u001b[38;5;28;01mTrue\u001b[39;00m\n",
      "\u001b[0;31mTypeError\u001b[0m: '>' not supported between instances of 'NoneType' and 'float'"
     ]
    }
   ],
   "source": [
    "# Same data as Example 1\n",
    "X = np.array(\n",
    "    [\n",
    "        [0, 0],\n",
    "        [0, 0],\n",
    "        [0, 0],\n",
    "        [0, 0],\n",
    "        [0, 0],\n",
    "        [0, 0],\n",
    "        [0, 0],\n",
    "        [1, 0],\n",
    "        [1, 0],\n",
    "        [1, 0],\n",
    "        [1, 1],\n",
    "        [0, 1],\n",
    "        [0, 1],\n",
    "    ]\n",
    ")\n",
    "X = pd.DataFrame(X, columns=[\"X1\", \"X2\"])\n",
    "\n",
    "y = np.array([0, 0, 0, 0, 0, 0, 0, 1, 1, 1, 0, 1, 1])\n",
    "\n",
    "robust_classifier = RobustOCT(\n",
    "    solver=\"cbc\",\n",
    "    depth=2,\n",
    "    time_limit=60,\n",
    ")\n",
    "robust_classifier.fit(X, y, costs=costs, budget=2)\n",
    "predictions = robust_classifier.predict(X)"
   ]
  },
  {
   "cell_type": "code",
   "execution_count": 7,
   "id": "f92977d3",
   "metadata": {
    "cell_id": "9116a32b75b94436bfeedf91c1f77815",
    "deepnote_cell_height": 362.734375,
    "deepnote_cell_type": "code",
    "deepnote_to_be_reexecuted": false,
    "execution": {
     "iopub.execute_input": "2023-07-26T03:01:14.277212Z",
     "iopub.status.busy": "2023-07-26T03:01:14.276832Z",
     "iopub.status.idle": "2023-07-26T03:01:14.309552Z",
     "shell.execute_reply": "2023-07-26T03:01:14.308625Z"
    },
    "execution_millis": 2,
    "execution_start": 1664769714733,
    "source_hash": "a3f1115a",
    "tags": []
   },
   "outputs": [
    {
     "name": "stdout",
     "output_type": "stream",
     "text": [
      "#########node  1\n"
     ]
    },
    {
     "ename": "TypeError",
     "evalue": "'>' not supported between instances of 'NoneType' and 'float'",
     "output_type": "error",
     "traceback": [
      "\u001b[0;31m---------------------------------------------------------------------------\u001b[0m",
      "\u001b[0;31mTypeError\u001b[0m                                 Traceback (most recent call last)",
      "Cell \u001b[0;32mIn[7], line 1\u001b[0m\n\u001b[0;32m----> 1\u001b[0m \u001b[43mrobust_classifier\u001b[49m\u001b[38;5;241;43m.\u001b[39;49m\u001b[43mprint_tree\u001b[49m\u001b[43m(\u001b[49m\u001b[43m)\u001b[49m\n",
      "File \u001b[0;32m/usr/local/lib/python3.8/site-packages/odtlearn/robust_oct.py:358\u001b[0m, in \u001b[0;36mRobustOCT.print_tree\u001b[0;34m(self)\u001b[0m\n\u001b[1;32m    355\u001b[0m     \u001b[38;5;28;01mcontinue\u001b[39;00m\n\u001b[1;32m    357\u001b[0m \u001b[38;5;28;01mfor\u001b[39;00m k \u001b[38;5;129;01min\u001b[39;00m \u001b[38;5;28mself\u001b[39m\u001b[38;5;241m.\u001b[39m_labels:\n\u001b[0;32m--> 358\u001b[0m     \u001b[38;5;28;01mif\u001b[39;00m \u001b[38;5;28;43mself\u001b[39;49m\u001b[38;5;241;43m.\u001b[39;49m\u001b[43mw_value\u001b[49m\u001b[43m[\u001b[49m\u001b[43mn\u001b[49m\u001b[43m,\u001b[49m\u001b[43m \u001b[49m\u001b[43mk\u001b[49m\u001b[43m]\u001b[49m\u001b[43m \u001b[49m\u001b[38;5;241;43m>\u001b[39;49m\u001b[43m \u001b[49m\u001b[38;5;241;43m0.5\u001b[39;49m:\n\u001b[1;32m    359\u001b[0m         \u001b[38;5;28mprint\u001b[39m(\u001b[38;5;124m\"\u001b[39m\u001b[38;5;124mleaf \u001b[39m\u001b[38;5;132;01m{}\u001b[39;00m\u001b[38;5;124m\"\u001b[39m\u001b[38;5;241m.\u001b[39mformat(k))\n\u001b[1;32m    360\u001b[0m         terminal \u001b[38;5;241m=\u001b[39m \u001b[38;5;28;01mTrue\u001b[39;00m\n",
      "\u001b[0;31mTypeError\u001b[0m: '>' not supported between instances of 'NoneType' and 'float'"
     ]
    }
   ],
   "source": [
    "robust_classifier.print_tree()"
   ]
  },
  {
   "cell_type": "code",
   "execution_count": 8,
   "id": "0d6acd42",
   "metadata": {
    "cell_id": "4da674ada20e4400a2a3511f53d341b0",
    "deepnote_cell_height": 534,
    "deepnote_cell_type": "code",
    "deepnote_output_heights": [
     406
    ],
    "deepnote_to_be_reexecuted": false,
    "execution": {
     "iopub.execute_input": "2023-07-26T03:01:14.314609Z",
     "iopub.status.busy": "2023-07-26T03:01:14.314084Z",
     "iopub.status.idle": "2023-07-26T03:01:14.649256Z",
     "shell.execute_reply": "2023-07-26T03:01:14.648333Z"
    },
    "execution_millis": 983,
    "execution_start": 1664769715734,
    "source_hash": "fbc9df0d",
    "tags": []
   },
   "outputs": [
    {
     "ename": "TypeError",
     "evalue": "'>' not supported between instances of 'NoneType' and 'float'",
     "output_type": "error",
     "traceback": [
      "\u001b[0;31m---------------------------------------------------------------------------\u001b[0m",
      "\u001b[0;31mTypeError\u001b[0m                                 Traceback (most recent call last)",
      "Cell \u001b[0;32mIn[8], line 2\u001b[0m\n\u001b[1;32m      1\u001b[0m fig, ax \u001b[38;5;241m=\u001b[39m plt\u001b[38;5;241m.\u001b[39msubplots(figsize\u001b[38;5;241m=\u001b[39m(\u001b[38;5;241m10\u001b[39m, \u001b[38;5;241m5\u001b[39m)) \n\u001b[0;32m----> 2\u001b[0m \u001b[43mrobust_classifier\u001b[49m\u001b[38;5;241;43m.\u001b[39;49m\u001b[43mplot_tree\u001b[49m\u001b[43m(\u001b[49m\u001b[43m)\u001b[49m\n\u001b[1;32m      3\u001b[0m plt\u001b[38;5;241m.\u001b[39mshow()\n",
      "File \u001b[0;32m/usr/local/lib/python3.8/site-packages/odtlearn/robust_oct.py:423\u001b[0m, in \u001b[0;36mRobustOCT.plot_tree\u001b[0;34m(self, label, filled, rounded, precision, ax, fontsize, color_dict, edge_annotation, arrow_annotation_font_scale, debug)\u001b[0m\n\u001b[1;32m    421\u001b[0m node_dict \u001b[38;5;241m=\u001b[39m {}\n\u001b[1;32m    422\u001b[0m \u001b[38;5;28;01mfor\u001b[39;00m node \u001b[38;5;129;01min\u001b[39;00m np\u001b[38;5;241m.\u001b[39marange(\u001b[38;5;241m1\u001b[39m, \u001b[38;5;28mself\u001b[39m\u001b[38;5;241m.\u001b[39m_tree\u001b[38;5;241m.\u001b[39mtotal_nodes \u001b[38;5;241m+\u001b[39m \u001b[38;5;241m1\u001b[39m):\n\u001b[0;32m--> 423\u001b[0m     node_dict[node] \u001b[38;5;241m=\u001b[39m \u001b[38;5;28;43mself\u001b[39;49m\u001b[38;5;241;43m.\u001b[39;49m\u001b[43m_get_node_status\u001b[49m\u001b[43m(\u001b[49m\u001b[38;5;28;43mself\u001b[39;49m\u001b[38;5;241;43m.\u001b[39;49m\u001b[43mb_value\u001b[49m\u001b[43m,\u001b[49m\u001b[43m \u001b[49m\u001b[38;5;28;43mself\u001b[39;49m\u001b[38;5;241;43m.\u001b[39;49m\u001b[43mw_value\u001b[49m\u001b[43m,\u001b[49m\u001b[43m \u001b[49m\u001b[43mnode\u001b[49m\u001b[43m)\u001b[49m\n\u001b[1;32m    425\u001b[0m exporter \u001b[38;5;241m=\u001b[39m MPLPlotter(\n\u001b[1;32m    426\u001b[0m     \u001b[38;5;28mself\u001b[39m\u001b[38;5;241m.\u001b[39m_tree,\n\u001b[1;32m    427\u001b[0m     node_dict,\n\u001b[0;32m   (...)\u001b[0m\n\u001b[1;32m    440\u001b[0m     debug\u001b[38;5;241m=\u001b[39mdebug,\n\u001b[1;32m    441\u001b[0m )\n\u001b[1;32m    442\u001b[0m \u001b[38;5;28;01mreturn\u001b[39;00m exporter\u001b[38;5;241m.\u001b[39mexport(ax\u001b[38;5;241m=\u001b[39max)\n",
      "File \u001b[0;32m/usr/local/lib/python3.8/site-packages/odtlearn/robust_oct.py:102\u001b[0m, in \u001b[0;36mRobustOCT._get_node_status\u001b[0;34m(self, b, w, n)\u001b[0m\n\u001b[1;32m     99\u001b[0m     p_sum \u001b[38;5;241m+\u001b[39m\u001b[38;5;241m=\u001b[39m \u001b[38;5;28msum\u001b[39m(w[m, k] \u001b[38;5;28;01mfor\u001b[39;00m k \u001b[38;5;129;01min\u001b[39;00m \u001b[38;5;28mself\u001b[39m\u001b[38;5;241m.\u001b[39m_labels)\n\u001b[1;32m    100\u001b[0m \u001b[38;5;66;03m# to determine if a leaf, we look at its w value\u001b[39;00m\n\u001b[1;32m    101\u001b[0m \u001b[38;5;66;03m# and find for which label the value > 0.5\u001b[39;00m\n\u001b[0;32m--> 102\u001b[0m col_idx \u001b[38;5;241m=\u001b[39m np\u001b[38;5;241m.\u001b[39masarray([w[n, k] \u001b[38;5;241m>\u001b[39m \u001b[38;5;241m0.5\u001b[39m \u001b[38;5;28;01mfor\u001b[39;00m k \u001b[38;5;129;01min\u001b[39;00m \u001b[38;5;28mself\u001b[39m\u001b[38;5;241m.\u001b[39m_labels])\u001b[38;5;241m.\u001b[39mnonzero()[\u001b[38;5;241m0\u001b[39m]\n\u001b[1;32m    103\u001b[0m \u001b[38;5;66;03m# col_idx = np.asarray(w[n, :] > 0.5).nonzero().flatten()\u001b[39;00m\n\u001b[1;32m    104\u001b[0m \u001b[38;5;66;03m# assuming here that we can only have one column > 0.5\u001b[39;00m\n\u001b[1;32m    105\u001b[0m \u001b[38;5;28;01mif\u001b[39;00m \u001b[38;5;28mlen\u001b[39m(col_idx) \u001b[38;5;241m>\u001b[39m \u001b[38;5;241m0\u001b[39m:\n",
      "File \u001b[0;32m/usr/local/lib/python3.8/site-packages/odtlearn/robust_oct.py:102\u001b[0m, in \u001b[0;36m<listcomp>\u001b[0;34m(.0)\u001b[0m\n\u001b[1;32m     99\u001b[0m     p_sum \u001b[38;5;241m+\u001b[39m\u001b[38;5;241m=\u001b[39m \u001b[38;5;28msum\u001b[39m(w[m, k] \u001b[38;5;28;01mfor\u001b[39;00m k \u001b[38;5;129;01min\u001b[39;00m \u001b[38;5;28mself\u001b[39m\u001b[38;5;241m.\u001b[39m_labels)\n\u001b[1;32m    100\u001b[0m \u001b[38;5;66;03m# to determine if a leaf, we look at its w value\u001b[39;00m\n\u001b[1;32m    101\u001b[0m \u001b[38;5;66;03m# and find for which label the value > 0.5\u001b[39;00m\n\u001b[0;32m--> 102\u001b[0m col_idx \u001b[38;5;241m=\u001b[39m np\u001b[38;5;241m.\u001b[39masarray([\u001b[43mw\u001b[49m\u001b[43m[\u001b[49m\u001b[43mn\u001b[49m\u001b[43m,\u001b[49m\u001b[43m \u001b[49m\u001b[43mk\u001b[49m\u001b[43m]\u001b[49m\u001b[43m \u001b[49m\u001b[38;5;241;43m>\u001b[39;49m\u001b[43m \u001b[49m\u001b[38;5;241;43m0.5\u001b[39;49m \u001b[38;5;28;01mfor\u001b[39;00m k \u001b[38;5;129;01min\u001b[39;00m \u001b[38;5;28mself\u001b[39m\u001b[38;5;241m.\u001b[39m_labels])\u001b[38;5;241m.\u001b[39mnonzero()[\u001b[38;5;241m0\u001b[39m]\n\u001b[1;32m    103\u001b[0m \u001b[38;5;66;03m# col_idx = np.asarray(w[n, :] > 0.5).nonzero().flatten()\u001b[39;00m\n\u001b[1;32m    104\u001b[0m \u001b[38;5;66;03m# assuming here that we can only have one column > 0.5\u001b[39;00m\n\u001b[1;32m    105\u001b[0m \u001b[38;5;28;01mif\u001b[39;00m \u001b[38;5;28mlen\u001b[39m(col_idx) \u001b[38;5;241m>\u001b[39m \u001b[38;5;241m0\u001b[39m:\n",
      "\u001b[0;31mTypeError\u001b[0m: '>' not supported between instances of 'NoneType' and 'float'"
     ]
    },
    {
     "data": {
      "image/png": "[encoded data removed]",
      "text/plain": [
       "<Figure size 1000x500 with 1 Axes>"
      ]
     },
     "metadata": {},
     "output_type": "display_data"
    }
   ],
   "source": [
    "fig, ax = plt.subplots(figsize=(10, 5)) \n",
    "robust_classifier.plot_tree()\n",
    "plt.show()"
   ]
  },
  {
   "attachments": {},
   "cell_type": "markdown",
   "id": "0905099c",
   "metadata": {
    "cell_id": "00008-73938505-0bb7-4f8e-a9ef-b6b4e57515e0",
    "deepnote_cell_height": 52.390625,
    "deepnote_cell_type": "markdown"
   },
   "source": [
    "<!-- <font size=\"3.5\">But when the budget is &epsilon;=5, we see a change in the tree, as we allow up to 5 points at [0,0] and [1,1] to switch to [1,0] to potentially be misclassified. With the non-robust tree, this would decrease our accuracy to 8/13 in worst-case.\n",
    "    </font>\n",
    "    \n",
    "<font size=\"3.5\">If we think it through, the expected tree will classify points at [0,1] as 1, and classify all else as 0, as the allowed perturbations will not change the assigned label, making the worst-case accuracy 10/13 (the maximum worst-case accuracy)\n",
    "    </font> -->\n",
    "\n",
    "But when the budget is increased to 5 (adding more robustness), we see a change in the tree."
   ]
  },
  {
   "cell_type": "code",
   "execution_count": 9,
   "id": "f8d8aa20",
   "metadata": {
    "cell_id": "00009-84267e8d-61ab-4b67-96a3-267ef2c17411",
    "deepnote_cell_height": 112,
    "deepnote_cell_type": "code",
    "deepnote_to_be_reexecuted": false,
    "execution": {
     "iopub.execute_input": "2023-07-26T03:01:14.653297Z",
     "iopub.status.busy": "2023-07-26T03:01:14.652634Z",
     "iopub.status.idle": "2023-07-26T03:02:14.703767Z",
     "shell.execute_reply": "2023-07-26T03:02:14.702474Z"
    },
    "execution_millis": 246,
    "execution_start": 1664769729224,
    "scrolled": true,
    "source_hash": "99f32af8"
   },
   "outputs": [
    {
     "ename": "TypeError",
     "evalue": "'>' not supported between instances of 'NoneType' and 'float'",
     "output_type": "error",
     "traceback": [
      "\u001b[0;31m---------------------------------------------------------------------------\u001b[0m",
      "\u001b[0;31mTypeError\u001b[0m                                 Traceback (most recent call last)",
      "Cell \u001b[0;32mIn[9], line 2\u001b[0m\n\u001b[1;32m      1\u001b[0m robust_classifier\u001b[38;5;241m.\u001b[39mfit(X, y, costs\u001b[38;5;241m=\u001b[39mcosts, budget\u001b[38;5;241m=\u001b[39m\u001b[38;5;241m5\u001b[39m)\n\u001b[0;32m----> 2\u001b[0m predictions \u001b[38;5;241m=\u001b[39m \u001b[43mrobust_classifier\u001b[49m\u001b[38;5;241;43m.\u001b[39;49m\u001b[43mpredict\u001b[49m\u001b[43m(\u001b[49m\u001b[43mX\u001b[49m\u001b[43m)\u001b[49m\n",
      "File \u001b[0;32m/usr/local/lib/python3.8/site-packages/odtlearn/robust_oct.py:342\u001b[0m, in \u001b[0;36mRobustOCT.predict\u001b[0;34m(self, X)\u001b[0m\n\u001b[1;32m    339\u001b[0m df_test \u001b[38;5;241m=\u001b[39m check_same_as_X(\u001b[38;5;28mself\u001b[39m\u001b[38;5;241m.\u001b[39m_X, \u001b[38;5;28mself\u001b[39m\u001b[38;5;241m.\u001b[39m_X_col_labels, X, \u001b[38;5;124m\"\u001b[39m\u001b[38;5;124mtest covariates\u001b[39m\u001b[38;5;124m\"\u001b[39m)\n\u001b[1;32m    340\u001b[0m check_integer(df_test)\n\u001b[0;32m--> 342\u001b[0m \u001b[38;5;28;01mreturn\u001b[39;00m \u001b[38;5;28;43mself\u001b[39;49m\u001b[38;5;241;43m.\u001b[39;49m\u001b[43m_make_prediction\u001b[49m\u001b[43m(\u001b[49m\u001b[43mdf_test\u001b[49m\u001b[43m)\u001b[49m\n",
      "File \u001b[0;32m/usr/local/lib/python3.8/site-packages/odtlearn/robust_oct.py:127\u001b[0m, in \u001b[0;36mRobustOCT._make_prediction\u001b[0;34m(self, X)\u001b[0m\n\u001b[1;32m    125\u001b[0m terminal \u001b[38;5;241m=\u001b[39m \u001b[38;5;28;01mFalse\u001b[39;00m\n\u001b[1;32m    126\u001b[0m \u001b[38;5;28;01mfor\u001b[39;00m k \u001b[38;5;129;01min\u001b[39;00m \u001b[38;5;28mself\u001b[39m\u001b[38;5;241m.\u001b[39m_labels:\n\u001b[0;32m--> 127\u001b[0m     \u001b[38;5;28;01mif\u001b[39;00m \u001b[38;5;28;43mself\u001b[39;49m\u001b[38;5;241;43m.\u001b[39;49m\u001b[43mw_value\u001b[49m\u001b[43m[\u001b[49m\u001b[43mnode\u001b[49m\u001b[43m,\u001b[49m\u001b[43m \u001b[49m\u001b[43mk\u001b[49m\u001b[43m]\u001b[49m\u001b[43m \u001b[49m\u001b[38;5;241;43m>\u001b[39;49m\u001b[43m \u001b[49m\u001b[38;5;241;43m0.5\u001b[39;49m:  \u001b[38;5;66;03m# w[n,k] == 1\u001b[39;00m\n\u001b[1;32m    128\u001b[0m         prediction \u001b[38;5;241m+\u001b[39m\u001b[38;5;241m=\u001b[39m [k]\n\u001b[1;32m    129\u001b[0m         terminal \u001b[38;5;241m=\u001b[39m \u001b[38;5;28;01mTrue\u001b[39;00m\n",
      "\u001b[0;31mTypeError\u001b[0m: '>' not supported between instances of 'NoneType' and 'float'"
     ]
    }
   ],
   "source": [
    "robust_classifier.fit(X, y, costs=costs, budget=5)\n",
    "predictions = robust_classifier.predict(X)"
   ]
  },
  {
   "cell_type": "code",
   "execution_count": 10,
   "id": "4c661313",
   "metadata": {
    "cell_id": "df737d5517474c38b9817275eb637593",
    "deepnote_cell_height": 362.734375,
    "deepnote_cell_type": "code",
    "deepnote_to_be_reexecuted": false,
    "execution": {
     "iopub.execute_input": "2023-07-26T03:02:14.707699Z",
     "iopub.status.busy": "2023-07-26T03:02:14.707017Z",
     "iopub.status.idle": "2023-07-26T03:02:14.739094Z",
     "shell.execute_reply": "2023-07-26T03:02:14.738260Z"
    },
    "execution_millis": 871,
    "execution_start": 1664769730985,
    "source_hash": "a3f1115a",
    "tags": []
   },
   "outputs": [
    {
     "name": "stdout",
     "output_type": "stream",
     "text": [
      "#########node  1\n"
     ]
    },
    {
     "ename": "TypeError",
     "evalue": "'>' not supported between instances of 'NoneType' and 'float'",
     "output_type": "error",
     "traceback": [
      "\u001b[0;31m---------------------------------------------------------------------------\u001b[0m",
      "\u001b[0;31mTypeError\u001b[0m                                 Traceback (most recent call last)",
      "Cell \u001b[0;32mIn[10], line 1\u001b[0m\n\u001b[0;32m----> 1\u001b[0m \u001b[43mrobust_classifier\u001b[49m\u001b[38;5;241;43m.\u001b[39;49m\u001b[43mprint_tree\u001b[49m\u001b[43m(\u001b[49m\u001b[43m)\u001b[49m\n",
      "File \u001b[0;32m/usr/local/lib/python3.8/site-packages/odtlearn/robust_oct.py:358\u001b[0m, in \u001b[0;36mRobustOCT.print_tree\u001b[0;34m(self)\u001b[0m\n\u001b[1;32m    355\u001b[0m     \u001b[38;5;28;01mcontinue\u001b[39;00m\n\u001b[1;32m    357\u001b[0m \u001b[38;5;28;01mfor\u001b[39;00m k \u001b[38;5;129;01min\u001b[39;00m \u001b[38;5;28mself\u001b[39m\u001b[38;5;241m.\u001b[39m_labels:\n\u001b[0;32m--> 358\u001b[0m     \u001b[38;5;28;01mif\u001b[39;00m \u001b[38;5;28;43mself\u001b[39;49m\u001b[38;5;241;43m.\u001b[39;49m\u001b[43mw_value\u001b[49m\u001b[43m[\u001b[49m\u001b[43mn\u001b[49m\u001b[43m,\u001b[49m\u001b[43m \u001b[49m\u001b[43mk\u001b[49m\u001b[43m]\u001b[49m\u001b[43m \u001b[49m\u001b[38;5;241;43m>\u001b[39;49m\u001b[43m \u001b[49m\u001b[38;5;241;43m0.5\u001b[39;49m:\n\u001b[1;32m    359\u001b[0m         \u001b[38;5;28mprint\u001b[39m(\u001b[38;5;124m\"\u001b[39m\u001b[38;5;124mleaf \u001b[39m\u001b[38;5;132;01m{}\u001b[39;00m\u001b[38;5;124m\"\u001b[39m\u001b[38;5;241m.\u001b[39mformat(k))\n\u001b[1;32m    360\u001b[0m         terminal \u001b[38;5;241m=\u001b[39m \u001b[38;5;28;01mTrue\u001b[39;00m\n",
      "\u001b[0;31mTypeError\u001b[0m: '>' not supported between instances of 'NoneType' and 'float'"
     ]
    }
   ],
   "source": [
    "robust_classifier.print_tree()"
   ]
  },
  {
   "cell_type": "code",
   "execution_count": 11,
   "id": "7b026470",
   "metadata": {
    "cell_id": "b6030aada5fa49b183a42ecdf239fc94",
    "deepnote_cell_height": 482,
    "deepnote_cell_type": "code",
    "deepnote_output_heights": [
     390
    ],
    "deepnote_to_be_reexecuted": false,
    "execution": {
     "iopub.execute_input": "2023-07-26T03:02:14.743417Z",
     "iopub.status.busy": "2023-07-26T03:02:14.742764Z",
     "iopub.status.idle": "2023-07-26T03:02:14.795681Z",
     "shell.execute_reply": "2023-07-26T03:02:14.794731Z"
    },
    "execution_millis": 489,
    "execution_start": 1664769738100,
    "source_hash": "21ef3048",
    "tags": []
   },
   "outputs": [
    {
     "ename": "TypeError",
     "evalue": "'>' not supported between instances of 'NoneType' and 'float'",
     "output_type": "error",
     "traceback": [
      "\u001b[0;31m---------------------------------------------------------------------------\u001b[0m",
      "\u001b[0;31mTypeError\u001b[0m                                 Traceback (most recent call last)",
      "Cell \u001b[0;32mIn[11], line 1\u001b[0m\n\u001b[0;32m----> 1\u001b[0m \u001b[43mrobust_classifier\u001b[49m\u001b[38;5;241;43m.\u001b[39;49m\u001b[43mplot_tree\u001b[49m\u001b[43m(\u001b[49m\u001b[43m)\u001b[49m\n",
      "File \u001b[0;32m/usr/local/lib/python3.8/site-packages/odtlearn/robust_oct.py:423\u001b[0m, in \u001b[0;36mRobustOCT.plot_tree\u001b[0;34m(self, label, filled, rounded, precision, ax, fontsize, color_dict, edge_annotation, arrow_annotation_font_scale, debug)\u001b[0m\n\u001b[1;32m    421\u001b[0m node_dict \u001b[38;5;241m=\u001b[39m {}\n\u001b[1;32m    422\u001b[0m \u001b[38;5;28;01mfor\u001b[39;00m node \u001b[38;5;129;01min\u001b[39;00m np\u001b[38;5;241m.\u001b[39marange(\u001b[38;5;241m1\u001b[39m, \u001b[38;5;28mself\u001b[39m\u001b[38;5;241m.\u001b[39m_tree\u001b[38;5;241m.\u001b[39mtotal_nodes \u001b[38;5;241m+\u001b[39m \u001b[38;5;241m1\u001b[39m):\n\u001b[0;32m--> 423\u001b[0m     node_dict[node] \u001b[38;5;241m=\u001b[39m \u001b[38;5;28;43mself\u001b[39;49m\u001b[38;5;241;43m.\u001b[39;49m\u001b[43m_get_node_status\u001b[49m\u001b[43m(\u001b[49m\u001b[38;5;28;43mself\u001b[39;49m\u001b[38;5;241;43m.\u001b[39;49m\u001b[43mb_value\u001b[49m\u001b[43m,\u001b[49m\u001b[43m \u001b[49m\u001b[38;5;28;43mself\u001b[39;49m\u001b[38;5;241;43m.\u001b[39;49m\u001b[43mw_value\u001b[49m\u001b[43m,\u001b[49m\u001b[43m \u001b[49m\u001b[43mnode\u001b[49m\u001b[43m)\u001b[49m\n\u001b[1;32m    425\u001b[0m exporter \u001b[38;5;241m=\u001b[39m MPLPlotter(\n\u001b[1;32m    426\u001b[0m     \u001b[38;5;28mself\u001b[39m\u001b[38;5;241m.\u001b[39m_tree,\n\u001b[1;32m    427\u001b[0m     node_dict,\n\u001b[0;32m   (...)\u001b[0m\n\u001b[1;32m    440\u001b[0m     debug\u001b[38;5;241m=\u001b[39mdebug,\n\u001b[1;32m    441\u001b[0m )\n\u001b[1;32m    442\u001b[0m \u001b[38;5;28;01mreturn\u001b[39;00m exporter\u001b[38;5;241m.\u001b[39mexport(ax\u001b[38;5;241m=\u001b[39max)\n",
      "File \u001b[0;32m/usr/local/lib/python3.8/site-packages/odtlearn/robust_oct.py:102\u001b[0m, in \u001b[0;36mRobustOCT._get_node_status\u001b[0;34m(self, b, w, n)\u001b[0m\n\u001b[1;32m     99\u001b[0m     p_sum \u001b[38;5;241m+\u001b[39m\u001b[38;5;241m=\u001b[39m \u001b[38;5;28msum\u001b[39m(w[m, k] \u001b[38;5;28;01mfor\u001b[39;00m k \u001b[38;5;129;01min\u001b[39;00m \u001b[38;5;28mself\u001b[39m\u001b[38;5;241m.\u001b[39m_labels)\n\u001b[1;32m    100\u001b[0m \u001b[38;5;66;03m# to determine if a leaf, we look at its w value\u001b[39;00m\n\u001b[1;32m    101\u001b[0m \u001b[38;5;66;03m# and find for which label the value > 0.5\u001b[39;00m\n\u001b[0;32m--> 102\u001b[0m col_idx \u001b[38;5;241m=\u001b[39m np\u001b[38;5;241m.\u001b[39masarray([w[n, k] \u001b[38;5;241m>\u001b[39m \u001b[38;5;241m0.5\u001b[39m \u001b[38;5;28;01mfor\u001b[39;00m k \u001b[38;5;129;01min\u001b[39;00m \u001b[38;5;28mself\u001b[39m\u001b[38;5;241m.\u001b[39m_labels])\u001b[38;5;241m.\u001b[39mnonzero()[\u001b[38;5;241m0\u001b[39m]\n\u001b[1;32m    103\u001b[0m \u001b[38;5;66;03m# col_idx = np.asarray(w[n, :] > 0.5).nonzero().flatten()\u001b[39;00m\n\u001b[1;32m    104\u001b[0m \u001b[38;5;66;03m# assuming here that we can only have one column > 0.5\u001b[39;00m\n\u001b[1;32m    105\u001b[0m \u001b[38;5;28;01mif\u001b[39;00m \u001b[38;5;28mlen\u001b[39m(col_idx) \u001b[38;5;241m>\u001b[39m \u001b[38;5;241m0\u001b[39m:\n",
      "File \u001b[0;32m/usr/local/lib/python3.8/site-packages/odtlearn/robust_oct.py:102\u001b[0m, in \u001b[0;36m<listcomp>\u001b[0;34m(.0)\u001b[0m\n\u001b[1;32m     99\u001b[0m     p_sum \u001b[38;5;241m+\u001b[39m\u001b[38;5;241m=\u001b[39m \u001b[38;5;28msum\u001b[39m(w[m, k] \u001b[38;5;28;01mfor\u001b[39;00m k \u001b[38;5;129;01min\u001b[39;00m \u001b[38;5;28mself\u001b[39m\u001b[38;5;241m.\u001b[39m_labels)\n\u001b[1;32m    100\u001b[0m \u001b[38;5;66;03m# to determine if a leaf, we look at its w value\u001b[39;00m\n\u001b[1;32m    101\u001b[0m \u001b[38;5;66;03m# and find for which label the value > 0.5\u001b[39;00m\n\u001b[0;32m--> 102\u001b[0m col_idx \u001b[38;5;241m=\u001b[39m np\u001b[38;5;241m.\u001b[39masarray([\u001b[43mw\u001b[49m\u001b[43m[\u001b[49m\u001b[43mn\u001b[49m\u001b[43m,\u001b[49m\u001b[43m \u001b[49m\u001b[43mk\u001b[49m\u001b[43m]\u001b[49m\u001b[43m \u001b[49m\u001b[38;5;241;43m>\u001b[39;49m\u001b[43m \u001b[49m\u001b[38;5;241;43m0.5\u001b[39;49m \u001b[38;5;28;01mfor\u001b[39;00m k \u001b[38;5;129;01min\u001b[39;00m \u001b[38;5;28mself\u001b[39m\u001b[38;5;241m.\u001b[39m_labels])\u001b[38;5;241m.\u001b[39mnonzero()[\u001b[38;5;241m0\u001b[39m]\n\u001b[1;32m    103\u001b[0m \u001b[38;5;66;03m# col_idx = np.asarray(w[n, :] > 0.5).nonzero().flatten()\u001b[39;00m\n\u001b[1;32m    104\u001b[0m \u001b[38;5;66;03m# assuming here that we can only have one column > 0.5\u001b[39;00m\n\u001b[1;32m    105\u001b[0m \u001b[38;5;28;01mif\u001b[39;00m \u001b[38;5;28mlen\u001b[39m(col_idx) \u001b[38;5;241m>\u001b[39m \u001b[38;5;241m0\u001b[39m:\n",
      "\u001b[0;31mTypeError\u001b[0m: '>' not supported between instances of 'NoneType' and 'float'"
     ]
    }
   ],
   "source": [
    "robust_classifier.plot_tree()"
   ]
  },
  {
   "attachments": {},
   "cell_type": "markdown",
   "id": "d451b6c3",
   "metadata": {
    "cell_id": "00010-a64753d8-356d-4c57-8ad0-03c7c908edf9",
    "deepnote_cell_height": 130.796875,
    "deepnote_cell_type": "markdown"
   },
   "source": [
    "## Example 3: UCI data example\n",
    "Here, we'll see the benefits of using robust optimization by perturbing the test set. We will use the MONK's Problems dataset from the UCI Machine Learning Repository.\n",
    "\n",
    "\n"
   ]
  },
  {
   "cell_type": "code",
   "execution_count": 12,
   "id": "d670f9e1",
   "metadata": {
    "cell_id": "00011-e6a08559-7fd6-4a5b-94d9-b9390eeccd3e",
    "deepnote_cell_height": 76,
    "deepnote_cell_type": "code",
    "deepnote_to_be_reexecuted": false,
    "execution": {
     "iopub.execute_input": "2023-07-26T03:02:14.800357Z",
     "iopub.status.busy": "2023-07-26T03:02:14.799701Z",
     "iopub.status.idle": "2023-07-26T03:02:14.804127Z",
     "shell.execute_reply": "2023-07-26T03:02:14.803304Z"
    },
    "execution_millis": 1,
    "execution_start": 1664769742991,
    "source_hash": "746a4dbc"
   },
   "outputs": [],
   "source": [
    "from sklearn.model_selection import train_test_split\n",
    "from odtlearn.datasets import robust_example"
   ]
  },
  {
   "attachments": {},
   "cell_type": "markdown",
   "id": "d8632b13",
   "metadata": {
    "cell_id": "41f21d35d18f40339ee6a1475ca5b04d",
    "deepnote_cell_height": 52.390625,
    "deepnote_cell_type": "markdown",
    "tags": []
   },
   "source": [
    "Fetch data and split to train and test"
   ]
  },
  {
   "cell_type": "code",
   "execution_count": 13,
   "id": "44b9d106",
   "metadata": {
    "cell_id": "00012-ca63f712-e49e-423a-97e6-ef5b95341980",
    "deepnote_cell_height": 268.6875,
    "deepnote_cell_type": "code",
    "deepnote_to_be_reexecuted": false,
    "execution": {
     "iopub.execute_input": "2023-07-26T03:02:14.807652Z",
     "iopub.status.busy": "2023-07-26T03:02:14.807145Z",
     "iopub.status.idle": "2023-07-26T03:02:14.815927Z",
     "shell.execute_reply": "2023-07-26T03:02:14.815216Z"
    },
    "execution_millis": 508,
    "execution_start": 1664769746611,
    "scrolled": true,
    "source_hash": "6f3fb272"
   },
   "outputs": [],
   "source": [
    "\"\"\"Fetch data and split to train and test\"\"\"\n",
    "data, y = robust_example()\n",
    "\n",
    "X_train, X_test, y_train, y_test = train_test_split(\n",
    "    data, y, test_size=0.25, random_state=2\n",
    ")"
   ]
  },
  {
   "attachments": {},
   "cell_type": "markdown",
   "id": "cc714a7c",
   "metadata": {
    "cell_id": "00013-6684517e-c0ae-464f-8632-05eacb7895eb",
    "deepnote_cell_height": 52.390625,
    "deepnote_cell_type": "markdown"
   },
   "source": [
    "For sake of comparison, train a classification tree that does not consider the scenario where there is a distribution shift:"
   ]
  },
  {
   "cell_type": "code",
   "execution_count": 14,
   "id": "bdf7635f",
   "metadata": {
    "cell_id": "00014-6bf44759-2856-4316-81b4-1f9491d09c83",
    "deepnote_cell_height": 950.1875,
    "deepnote_cell_type": "code",
    "deepnote_output_heights": [
     null,
     20.1875
    ],
    "deepnote_to_be_reexecuted": false,
    "execution": {
     "iopub.execute_input": "2023-07-26T03:02:14.819449Z",
     "iopub.status.busy": "2023-07-26T03:02:14.819055Z",
     "iopub.status.idle": "2023-07-26T03:03:14.850190Z",
     "shell.execute_reply": "2023-07-26T03:03:14.849322Z"
    },
    "execution_millis": 17487,
    "execution_start": 1664769775115,
    "scrolled": true,
    "source_hash": "ec914ba0"
   },
   "outputs": [
    {
     "data": {
      "text/plain": [
       "RobustOCT(solver=cbc,depth=2,time_limit=60,num_threads=None,verbose=False)"
      ]
     },
     "execution_count": 14,
     "metadata": {},
     "output_type": "execute_result"
    }
   ],
   "source": [
    "\"\"\"Train a non-robust tree for comparison\"\"\"\n",
    "from odtlearn.robust_oct import RobustOCT\n",
    "\n",
    "# If you define no uncertainty, you get an optimal tree without regularization that maximizes accuracy\n",
    "non_robust_classifier = RobustOCT(solver=\"cbc\", depth=2, time_limit=60, verbose=False)\n",
    "\n",
    "non_robust_classifier.fit(X_train, y_train)"
   ]
  },
  {
   "cell_type": "code",
   "execution_count": 15,
   "id": "885385b9",
   "metadata": {
    "cell_id": "cede983182b840ca830bf41e836d1abb",
    "deepnote_cell_height": 362.734375,
    "deepnote_cell_type": "code",
    "deepnote_to_be_reexecuted": false,
    "execution": {
     "iopub.execute_input": "2023-07-26T03:03:14.854398Z",
     "iopub.status.busy": "2023-07-26T03:03:14.853834Z",
     "iopub.status.idle": "2023-07-26T03:03:14.891272Z",
     "shell.execute_reply": "2023-07-26T03:03:14.890261Z"
    },
    "execution_millis": 680,
    "execution_start": 1664769792015,
    "source_hash": "388e377f",
    "tags": []
   },
   "outputs": [
    {
     "name": "stdout",
     "output_type": "stream",
     "text": [
      "#########node  1\n"
     ]
    },
    {
     "ename": "TypeError",
     "evalue": "'>' not supported between instances of 'NoneType' and 'float'",
     "output_type": "error",
     "traceback": [
      "\u001b[0;31m---------------------------------------------------------------------------\u001b[0m",
      "\u001b[0;31mTypeError\u001b[0m                                 Traceback (most recent call last)",
      "Cell \u001b[0;32mIn[15], line 1\u001b[0m\n\u001b[0;32m----> 1\u001b[0m \u001b[43mnon_robust_classifier\u001b[49m\u001b[38;5;241;43m.\u001b[39;49m\u001b[43mprint_tree\u001b[49m\u001b[43m(\u001b[49m\u001b[43m)\u001b[49m\n",
      "File \u001b[0;32m/usr/local/lib/python3.8/site-packages/odtlearn/robust_oct.py:358\u001b[0m, in \u001b[0;36mRobustOCT.print_tree\u001b[0;34m(self)\u001b[0m\n\u001b[1;32m    355\u001b[0m     \u001b[38;5;28;01mcontinue\u001b[39;00m\n\u001b[1;32m    357\u001b[0m \u001b[38;5;28;01mfor\u001b[39;00m k \u001b[38;5;129;01min\u001b[39;00m \u001b[38;5;28mself\u001b[39m\u001b[38;5;241m.\u001b[39m_labels:\n\u001b[0;32m--> 358\u001b[0m     \u001b[38;5;28;01mif\u001b[39;00m \u001b[38;5;28;43mself\u001b[39;49m\u001b[38;5;241;43m.\u001b[39;49m\u001b[43mw_value\u001b[49m\u001b[43m[\u001b[49m\u001b[43mn\u001b[49m\u001b[43m,\u001b[49m\u001b[43m \u001b[49m\u001b[43mk\u001b[49m\u001b[43m]\u001b[49m\u001b[43m \u001b[49m\u001b[38;5;241;43m>\u001b[39;49m\u001b[43m \u001b[49m\u001b[38;5;241;43m0.5\u001b[39;49m:\n\u001b[1;32m    359\u001b[0m         \u001b[38;5;28mprint\u001b[39m(\u001b[38;5;124m\"\u001b[39m\u001b[38;5;124mleaf \u001b[39m\u001b[38;5;132;01m{}\u001b[39;00m\u001b[38;5;124m\"\u001b[39m\u001b[38;5;241m.\u001b[39mformat(k))\n\u001b[1;32m    360\u001b[0m         terminal \u001b[38;5;241m=\u001b[39m \u001b[38;5;28;01mTrue\u001b[39;00m\n",
      "\u001b[0;31mTypeError\u001b[0m: '>' not supported between instances of 'NoneType' and 'float'"
     ]
    }
   ],
   "source": [
    "non_robust_classifier.print_tree()"
   ]
  },
  {
   "cell_type": "code",
   "execution_count": 16,
   "id": "f122efea",
   "metadata": {
    "cell_id": "d2858316c41d4fa0b972e1dd756b0fd1",
    "deepnote_cell_height": 534,
    "deepnote_cell_type": "code",
    "deepnote_output_heights": [
     406
    ],
    "deepnote_to_be_reexecuted": false,
    "execution": {
     "iopub.execute_input": "2023-07-26T03:03:14.897282Z",
     "iopub.status.busy": "2023-07-26T03:03:14.896649Z",
     "iopub.status.idle": "2023-07-26T03:03:15.141983Z",
     "shell.execute_reply": "2023-07-26T03:03:15.141002Z"
    },
    "execution_millis": 747,
    "execution_start": 1664769792016,
    "source_hash": "3d490653",
    "tags": []
   },
   "outputs": [
    {
     "ename": "TypeError",
     "evalue": "'>' not supported between instances of 'NoneType' and 'float'",
     "output_type": "error",
     "traceback": [
      "\u001b[0;31m---------------------------------------------------------------------------\u001b[0m",
      "\u001b[0;31mTypeError\u001b[0m                                 Traceback (most recent call last)",
      "Cell \u001b[0;32mIn[16], line 2\u001b[0m\n\u001b[1;32m      1\u001b[0m fig, ax \u001b[38;5;241m=\u001b[39m plt\u001b[38;5;241m.\u001b[39msubplots(figsize\u001b[38;5;241m=\u001b[39m(\u001b[38;5;241m10\u001b[39m, \u001b[38;5;241m5\u001b[39m)) \n\u001b[0;32m----> 2\u001b[0m \u001b[43mnon_robust_classifier\u001b[49m\u001b[38;5;241;43m.\u001b[39;49m\u001b[43mplot_tree\u001b[49m\u001b[43m(\u001b[49m\u001b[43m)\u001b[49m\n\u001b[1;32m      3\u001b[0m plt\u001b[38;5;241m.\u001b[39mshow()\n",
      "File \u001b[0;32m/usr/local/lib/python3.8/site-packages/odtlearn/robust_oct.py:423\u001b[0m, in \u001b[0;36mRobustOCT.plot_tree\u001b[0;34m(self, label, filled, rounded, precision, ax, fontsize, color_dict, edge_annotation, arrow_annotation_font_scale, debug)\u001b[0m\n\u001b[1;32m    421\u001b[0m node_dict \u001b[38;5;241m=\u001b[39m {}\n\u001b[1;32m    422\u001b[0m \u001b[38;5;28;01mfor\u001b[39;00m node \u001b[38;5;129;01min\u001b[39;00m np\u001b[38;5;241m.\u001b[39marange(\u001b[38;5;241m1\u001b[39m, \u001b[38;5;28mself\u001b[39m\u001b[38;5;241m.\u001b[39m_tree\u001b[38;5;241m.\u001b[39mtotal_nodes \u001b[38;5;241m+\u001b[39m \u001b[38;5;241m1\u001b[39m):\n\u001b[0;32m--> 423\u001b[0m     node_dict[node] \u001b[38;5;241m=\u001b[39m \u001b[38;5;28;43mself\u001b[39;49m\u001b[38;5;241;43m.\u001b[39;49m\u001b[43m_get_node_status\u001b[49m\u001b[43m(\u001b[49m\u001b[38;5;28;43mself\u001b[39;49m\u001b[38;5;241;43m.\u001b[39;49m\u001b[43mb_value\u001b[49m\u001b[43m,\u001b[49m\u001b[43m \u001b[49m\u001b[38;5;28;43mself\u001b[39;49m\u001b[38;5;241;43m.\u001b[39;49m\u001b[43mw_value\u001b[49m\u001b[43m,\u001b[49m\u001b[43m \u001b[49m\u001b[43mnode\u001b[49m\u001b[43m)\u001b[49m\n\u001b[1;32m    425\u001b[0m exporter \u001b[38;5;241m=\u001b[39m MPLPlotter(\n\u001b[1;32m    426\u001b[0m     \u001b[38;5;28mself\u001b[39m\u001b[38;5;241m.\u001b[39m_tree,\n\u001b[1;32m    427\u001b[0m     node_dict,\n\u001b[0;32m   (...)\u001b[0m\n\u001b[1;32m    440\u001b[0m     debug\u001b[38;5;241m=\u001b[39mdebug,\n\u001b[1;32m    441\u001b[0m )\n\u001b[1;32m    442\u001b[0m \u001b[38;5;28;01mreturn\u001b[39;00m exporter\u001b[38;5;241m.\u001b[39mexport(ax\u001b[38;5;241m=\u001b[39max)\n",
      "File \u001b[0;32m/usr/local/lib/python3.8/site-packages/odtlearn/robust_oct.py:102\u001b[0m, in \u001b[0;36mRobustOCT._get_node_status\u001b[0;34m(self, b, w, n)\u001b[0m\n\u001b[1;32m     99\u001b[0m     p_sum \u001b[38;5;241m+\u001b[39m\u001b[38;5;241m=\u001b[39m \u001b[38;5;28msum\u001b[39m(w[m, k] \u001b[38;5;28;01mfor\u001b[39;00m k \u001b[38;5;129;01min\u001b[39;00m \u001b[38;5;28mself\u001b[39m\u001b[38;5;241m.\u001b[39m_labels)\n\u001b[1;32m    100\u001b[0m \u001b[38;5;66;03m# to determine if a leaf, we look at its w value\u001b[39;00m\n\u001b[1;32m    101\u001b[0m \u001b[38;5;66;03m# and find for which label the value > 0.5\u001b[39;00m\n\u001b[0;32m--> 102\u001b[0m col_idx \u001b[38;5;241m=\u001b[39m np\u001b[38;5;241m.\u001b[39masarray([w[n, k] \u001b[38;5;241m>\u001b[39m \u001b[38;5;241m0.5\u001b[39m \u001b[38;5;28;01mfor\u001b[39;00m k \u001b[38;5;129;01min\u001b[39;00m \u001b[38;5;28mself\u001b[39m\u001b[38;5;241m.\u001b[39m_labels])\u001b[38;5;241m.\u001b[39mnonzero()[\u001b[38;5;241m0\u001b[39m]\n\u001b[1;32m    103\u001b[0m \u001b[38;5;66;03m# col_idx = np.asarray(w[n, :] > 0.5).nonzero().flatten()\u001b[39;00m\n\u001b[1;32m    104\u001b[0m \u001b[38;5;66;03m# assuming here that we can only have one column > 0.5\u001b[39;00m\n\u001b[1;32m    105\u001b[0m \u001b[38;5;28;01mif\u001b[39;00m \u001b[38;5;28mlen\u001b[39m(col_idx) \u001b[38;5;241m>\u001b[39m \u001b[38;5;241m0\u001b[39m:\n",
      "File \u001b[0;32m/usr/local/lib/python3.8/site-packages/odtlearn/robust_oct.py:102\u001b[0m, in \u001b[0;36m<listcomp>\u001b[0;34m(.0)\u001b[0m\n\u001b[1;32m     99\u001b[0m     p_sum \u001b[38;5;241m+\u001b[39m\u001b[38;5;241m=\u001b[39m \u001b[38;5;28msum\u001b[39m(w[m, k] \u001b[38;5;28;01mfor\u001b[39;00m k \u001b[38;5;129;01min\u001b[39;00m \u001b[38;5;28mself\u001b[39m\u001b[38;5;241m.\u001b[39m_labels)\n\u001b[1;32m    100\u001b[0m \u001b[38;5;66;03m# to determine if a leaf, we look at its w value\u001b[39;00m\n\u001b[1;32m    101\u001b[0m \u001b[38;5;66;03m# and find for which label the value > 0.5\u001b[39;00m\n\u001b[0;32m--> 102\u001b[0m col_idx \u001b[38;5;241m=\u001b[39m np\u001b[38;5;241m.\u001b[39masarray([\u001b[43mw\u001b[49m\u001b[43m[\u001b[49m\u001b[43mn\u001b[49m\u001b[43m,\u001b[49m\u001b[43m \u001b[49m\u001b[43mk\u001b[49m\u001b[43m]\u001b[49m\u001b[43m \u001b[49m\u001b[38;5;241;43m>\u001b[39;49m\u001b[43m \u001b[49m\u001b[38;5;241;43m0.5\u001b[39;49m \u001b[38;5;28;01mfor\u001b[39;00m k \u001b[38;5;129;01min\u001b[39;00m \u001b[38;5;28mself\u001b[39m\u001b[38;5;241m.\u001b[39m_labels])\u001b[38;5;241m.\u001b[39mnonzero()[\u001b[38;5;241m0\u001b[39m]\n\u001b[1;32m    103\u001b[0m \u001b[38;5;66;03m# col_idx = np.asarray(w[n, :] > 0.5).nonzero().flatten()\u001b[39;00m\n\u001b[1;32m    104\u001b[0m \u001b[38;5;66;03m# assuming here that we can only have one column > 0.5\u001b[39;00m\n\u001b[1;32m    105\u001b[0m \u001b[38;5;28;01mif\u001b[39;00m \u001b[38;5;28mlen\u001b[39m(col_idx) \u001b[38;5;241m>\u001b[39m \u001b[38;5;241m0\u001b[39m:\n",
      "\u001b[0;31mTypeError\u001b[0m: '>' not supported between instances of 'NoneType' and 'float'"
     ]
    },
    {
     "data": {
      "image/png": "[encoded data removed]",
      "text/plain": [
       "<Figure size 1000x500 with 1 Axes>"
      ]
     },
     "metadata": {},
     "output_type": "display_data"
    }
   ],
   "source": [
    "fig, ax = plt.subplots(figsize=(10, 5)) \n",
    "non_robust_classifier.plot_tree()\n",
    "plt.show()"
   ]
  },
  {
   "attachments": {},
   "cell_type": "markdown",
   "id": "77bf18eb",
   "metadata": {
    "cell_id": "00015-511ab703-4b9f-4c99-8b26-95f27e2ee80e",
    "deepnote_cell_height": 97.1875,
    "deepnote_cell_type": "markdown"
   },
   "source": [
    "Train a robust tree. First, define the uncertainty. Here, we will generate a probability of certainty for each feature randomly (in practice, you would need to use some guess from domain knowledge). For simplicity, we will not change this probability by data sample $i$. We also define $\\lambda = 0.9$, which in practice must be tuned.\n"
   ]
  },
  {
   "cell_type": "code",
   "execution_count": 17,
   "id": "b641c408",
   "metadata": {
    "cell_id": "00016-14b459f8-9786-4b71-9007-d9a68d7c69aa",
    "deepnote_cell_height": 257.390625,
    "deepnote_cell_type": "code",
    "deepnote_output_heights": [
     39.390625
    ],
    "deepnote_to_be_reexecuted": false,
    "execution": {
     "iopub.execute_input": "2023-07-26T03:03:15.146389Z",
     "iopub.status.busy": "2023-07-26T03:03:15.145592Z",
     "iopub.status.idle": "2023-07-26T03:03:15.156612Z",
     "shell.execute_reply": "2023-07-26T03:03:15.155812Z"
    },
    "execution_millis": 680,
    "execution_start": 1664769798155,
    "scrolled": true,
    "source_hash": "5f369a82"
   },
   "outputs": [
    {
     "data": {
      "text/plain": [
       "array([0.94967142, 0.88617357, 0.96476885, 1.        , 0.87658466,\n",
       "       0.8765863 ])"
      ]
     },
     "execution_count": 17,
     "metadata": {},
     "output_type": "execute_result"
    }
   ],
   "source": [
    "\"\"\"Generate q_f values for each feature (i.e. probability of certainty for feature f)\"\"\"\n",
    "np.random.seed(42)\n",
    "q_f = np.random.normal(loc=0.9, scale=0.1, size=len(X_train.columns))\n",
    "# Snap q_f to range [0,1]\n",
    "q_f[q_f <= 0] = np.nextafter(np.float32(0), np.float32(1))\n",
    "q_f[q_f > 1] = 1.0\n",
    "\n",
    "q_f"
   ]
  },
  {
   "attachments": {},
   "cell_type": "markdown",
   "id": "d8118dcd",
   "metadata": {
    "cell_id": "00017-e2c44d63-a2a7-40c3-873b-173219fa4020",
    "deepnote_cell_height": 52.390625,
    "deepnote_cell_type": "markdown"
   },
   "source": [
    "Calibrate the `costs` and `budget` parameters for the `fit` function."
   ]
  },
  {
   "cell_type": "code",
   "execution_count": 18,
   "id": "7a563a91",
   "metadata": {
    "cell_id": "00018-8348cb86-a857-4d9d-a5ee-44cda4446659",
    "deepnote_cell_height": 184.1875,
    "deepnote_cell_type": "code",
    "deepnote_output_heights": [
     20.1875
    ],
    "deepnote_to_be_reexecuted": false,
    "execution": {
     "iopub.execute_input": "2023-07-26T03:03:15.161472Z",
     "iopub.status.busy": "2023-07-26T03:03:15.159992Z",
     "iopub.status.idle": "2023-07-26T03:03:15.168986Z",
     "shell.execute_reply": "2023-07-26T03:03:15.168208Z"
    },
    "execution_millis": 334,
    "execution_start": 1664769801529,
    "source_hash": "8febf87c"
   },
   "outputs": [
    {
     "data": {
      "text/plain": [
       "13.275424972886112"
      ]
     },
     "execution_count": 18,
     "metadata": {},
     "output_type": "execute_result"
    }
   ],
   "source": [
    "\"\"\"Define budget of uncertainty\"\"\"\n",
    "from math import log\n",
    "\n",
    "l = 0.9  # Lambda value between 0 and 1\n",
    "budget = -1 * X_train.shape[0] * log(l)\n",
    "budget"
   ]
  },
  {
   "cell_type": "code",
   "execution_count": 19,
   "id": "68ef855d",
   "metadata": {
    "cell_id": "00019-a1add7b6-8e21-46a1-87b6-e6a2d74ef071",
    "deepnote_cell_height": 793,
    "deepnote_cell_type": "code",
    "deepnote_to_be_reexecuted": false,
    "execution": {
     "iopub.execute_input": "2023-07-26T03:03:15.172871Z",
     "iopub.status.busy": "2023-07-26T03:03:15.172202Z",
     "iopub.status.idle": "2023-07-26T03:03:15.196684Z",
     "shell.execute_reply": "2023-07-26T03:03:15.195755Z"
    },
    "execution_millis": 28,
    "execution_start": 1664769805562,
    "scrolled": true,
    "source_hash": "7f3949b"
   },
   "outputs": [
    {
     "data": {
      "text/html": [
       "<div>\n",
       "<style scoped>\n",
       "    .dataframe tbody tr th:only-of-type {\n",
       "        vertical-align: middle;\n",
       "    }\n",
       "\n",
       "    .dataframe tbody tr th {\n",
       "        vertical-align: top;\n",
       "    }\n",
       "\n",
       "    .dataframe thead th {\n",
       "        text-align: right;\n",
       "    }\n",
       "</style>\n",
       "<table border=\"1\" class=\"dataframe\">\n",
       "  <thead>\n",
       "    <tr style=\"text-align: right;\">\n",
       "      <th></th>\n",
       "      <th>Feat0</th>\n",
       "      <th>Feat1</th>\n",
       "      <th>Feat2</th>\n",
       "      <th>Feat3</th>\n",
       "      <th>Feat4</th>\n",
       "      <th>Feat5</th>\n",
       "    </tr>\n",
       "  </thead>\n",
       "  <tbody>\n",
       "    <tr>\n",
       "      <th>0</th>\n",
       "      <td>2.989182</td>\n",
       "      <td>2.173081</td>\n",
       "      <td>3.345825</td>\n",
       "      <td>14.275425</td>\n",
       "      <td>2.0922</td>\n",
       "      <td>2.092213</td>\n",
       "    </tr>\n",
       "    <tr>\n",
       "      <th>1</th>\n",
       "      <td>2.989182</td>\n",
       "      <td>2.173081</td>\n",
       "      <td>3.345825</td>\n",
       "      <td>14.275425</td>\n",
       "      <td>2.0922</td>\n",
       "      <td>2.092213</td>\n",
       "    </tr>\n",
       "    <tr>\n",
       "      <th>2</th>\n",
       "      <td>2.989182</td>\n",
       "      <td>2.173081</td>\n",
       "      <td>3.345825</td>\n",
       "      <td>14.275425</td>\n",
       "      <td>2.0922</td>\n",
       "      <td>2.092213</td>\n",
       "    </tr>\n",
       "    <tr>\n",
       "      <th>3</th>\n",
       "      <td>2.989182</td>\n",
       "      <td>2.173081</td>\n",
       "      <td>3.345825</td>\n",
       "      <td>14.275425</td>\n",
       "      <td>2.0922</td>\n",
       "      <td>2.092213</td>\n",
       "    </tr>\n",
       "    <tr>\n",
       "      <th>4</th>\n",
       "      <td>2.989182</td>\n",
       "      <td>2.173081</td>\n",
       "      <td>3.345825</td>\n",
       "      <td>14.275425</td>\n",
       "      <td>2.0922</td>\n",
       "      <td>2.092213</td>\n",
       "    </tr>\n",
       "    <tr>\n",
       "      <th>...</th>\n",
       "      <td>...</td>\n",
       "      <td>...</td>\n",
       "      <td>...</td>\n",
       "      <td>...</td>\n",
       "      <td>...</td>\n",
       "      <td>...</td>\n",
       "    </tr>\n",
       "    <tr>\n",
       "      <th>121</th>\n",
       "      <td>2.989182</td>\n",
       "      <td>2.173081</td>\n",
       "      <td>3.345825</td>\n",
       "      <td>14.275425</td>\n",
       "      <td>2.0922</td>\n",
       "      <td>2.092213</td>\n",
       "    </tr>\n",
       "    <tr>\n",
       "      <th>122</th>\n",
       "      <td>2.989182</td>\n",
       "      <td>2.173081</td>\n",
       "      <td>3.345825</td>\n",
       "      <td>14.275425</td>\n",
       "      <td>2.0922</td>\n",
       "      <td>2.092213</td>\n",
       "    </tr>\n",
       "    <tr>\n",
       "      <th>123</th>\n",
       "      <td>2.989182</td>\n",
       "      <td>2.173081</td>\n",
       "      <td>3.345825</td>\n",
       "      <td>14.275425</td>\n",
       "      <td>2.0922</td>\n",
       "      <td>2.092213</td>\n",
       "    </tr>\n",
       "    <tr>\n",
       "      <th>124</th>\n",
       "      <td>2.989182</td>\n",
       "      <td>2.173081</td>\n",
       "      <td>3.345825</td>\n",
       "      <td>14.275425</td>\n",
       "      <td>2.0922</td>\n",
       "      <td>2.092213</td>\n",
       "    </tr>\n",
       "    <tr>\n",
       "      <th>125</th>\n",
       "      <td>2.989182</td>\n",
       "      <td>2.173081</td>\n",
       "      <td>3.345825</td>\n",
       "      <td>14.275425</td>\n",
       "      <td>2.0922</td>\n",
       "      <td>2.092213</td>\n",
       "    </tr>\n",
       "  </tbody>\n",
       "</table>\n",
       "<p>126 rows × 6 columns</p>\n",
       "</div>"
      ],
      "text/plain": [
       "        Feat0     Feat1     Feat2      Feat3   Feat4     Feat5\n",
       "0    2.989182  2.173081  3.345825  14.275425  2.0922  2.092213\n",
       "1    2.989182  2.173081  3.345825  14.275425  2.0922  2.092213\n",
       "2    2.989182  2.173081  3.345825  14.275425  2.0922  2.092213\n",
       "3    2.989182  2.173081  3.345825  14.275425  2.0922  2.092213\n",
       "4    2.989182  2.173081  3.345825  14.275425  2.0922  2.092213\n",
       "..        ...       ...       ...        ...     ...       ...\n",
       "121  2.989182  2.173081  3.345825  14.275425  2.0922  2.092213\n",
       "122  2.989182  2.173081  3.345825  14.275425  2.0922  2.092213\n",
       "123  2.989182  2.173081  3.345825  14.275425  2.0922  2.092213\n",
       "124  2.989182  2.173081  3.345825  14.275425  2.0922  2.092213\n",
       "125  2.989182  2.173081  3.345825  14.275425  2.0922  2.092213\n",
       "\n",
       "[126 rows x 6 columns]"
      ]
     },
     "execution_count": 19,
     "metadata": {},
     "output_type": "execute_result"
    }
   ],
   "source": [
    "\"\"\"Based on q_f values, create costs of uncertainty\"\"\"\n",
    "from copy import deepcopy\n",
    "\n",
    "costs = deepcopy(X_train)\n",
    "costs = costs.astype(\"float\")\n",
    "for f in range(len(q_f)):\n",
    "    if q_f[f] == 1:\n",
    "        costs[costs.columns[f]] = budget + 1  # no uncertainty = \"infinite\" cost\n",
    "    else:\n",
    "        costs[costs.columns[f]] = -1 * log(1 - q_f[f])\n",
    "\n",
    "costs"
   ]
  },
  {
   "attachments": {},
   "cell_type": "markdown",
   "id": "873b1077",
   "metadata": {
    "cell_id": "873b53227f2847c48fd956daa42241d6",
    "deepnote_cell_height": 52.390625,
    "deepnote_cell_type": "markdown",
    "tags": []
   },
   "source": [
    "Train the robust tree using the costs and budget."
   ]
  },
  {
   "cell_type": "code",
   "execution_count": 20,
   "id": "8dc237ab",
   "metadata": {
    "cell_id": "00020-17db6a05-404c-4fb0-9b35-d58abc3aa541",
    "deepnote_cell_height": 184.1875,
    "deepnote_cell_type": "code",
    "deepnote_output_heights": [
     20.1875
    ],
    "deepnote_to_be_reexecuted": false,
    "execution": {
     "iopub.execute_input": "2023-07-26T03:03:15.201161Z",
     "iopub.status.busy": "2023-07-26T03:03:15.200368Z",
     "iopub.status.idle": "2023-07-26T03:03:15.228862Z",
     "shell.execute_reply": "2023-07-26T03:03:15.228060Z"
    },
    "execution_millis": 115497,
    "execution_start": 1664769815612,
    "scrolled": true,
    "source_hash": "ae6f9fa2"
   },
   "outputs": [
    {
     "ename": "TypeError",
     "evalue": "__init__() missing 1 required positional argument: 'solver'",
     "output_type": "error",
     "traceback": [
      "\u001b[0;31m---------------------------------------------------------------------------\u001b[0m",
      "\u001b[0;31mTypeError\u001b[0m                                 Traceback (most recent call last)",
      "Cell \u001b[0;32mIn[20], line 1\u001b[0m\n\u001b[0;32m----> 1\u001b[0m robust_classifier \u001b[38;5;241m=\u001b[39m \u001b[43mRobustOCT\u001b[49m\u001b[43m(\u001b[49m\n\u001b[1;32m      2\u001b[0m \u001b[43m    \u001b[49m\u001b[43mdepth\u001b[49m\u001b[38;5;241;43m=\u001b[39;49m\u001b[38;5;241;43m2\u001b[39;49m\u001b[43m,\u001b[49m\n\u001b[1;32m      3\u001b[0m \u001b[43m    \u001b[49m\u001b[43mtime_limit\u001b[49m\u001b[38;5;241;43m=\u001b[39;49m\u001b[38;5;241;43m120\u001b[39;49m\u001b[43m,\u001b[49m\n\u001b[1;32m      4\u001b[0m \u001b[43m)\u001b[49m\n\u001b[1;32m      5\u001b[0m robust_classifier\u001b[38;5;241m.\u001b[39mfit(X_train, y_train, costs\u001b[38;5;241m=\u001b[39mcosts, budget\u001b[38;5;241m=\u001b[39mbudget)\n",
      "\u001b[0;31mTypeError\u001b[0m: __init__() missing 1 required positional argument: 'solver'"
     ]
    }
   ],
   "source": [
    "robust_classifier = RobustOCT(\n",
    "    depth=2,\n",
    "    time_limit=120,\n",
    ")\n",
    "robust_classifier.fit(X_train, y_train, costs=costs, budget=budget)"
   ]
  },
  {
   "cell_type": "code",
   "execution_count": 21,
   "id": "5ee04af2",
   "metadata": {
    "cell_id": "6ea60076b5ff4d4db35fef0d61992e3c",
    "deepnote_cell_height": 362.734375,
    "deepnote_cell_type": "code",
    "deepnote_to_be_reexecuted": false,
    "execution": {
     "iopub.execute_input": "2023-07-26T03:03:15.232690Z",
     "iopub.status.busy": "2023-07-26T03:03:15.232247Z",
     "iopub.status.idle": "2023-07-26T03:03:15.269320Z",
     "shell.execute_reply": "2023-07-26T03:03:15.268229Z"
    },
    "execution_millis": 2,
    "execution_start": 1664769931108,
    "source_hash": "a3f1115a",
    "tags": []
   },
   "outputs": [
    {
     "name": "stdout",
     "output_type": "stream",
     "text": [
      "#########node  1\n"
     ]
    },
    {
     "ename": "TypeError",
     "evalue": "'>' not supported between instances of 'NoneType' and 'float'",
     "output_type": "error",
     "traceback": [
      "\u001b[0;31m---------------------------------------------------------------------------\u001b[0m",
      "\u001b[0;31mTypeError\u001b[0m                                 Traceback (most recent call last)",
      "Cell \u001b[0;32mIn[21], line 1\u001b[0m\n\u001b[0;32m----> 1\u001b[0m \u001b[43mrobust_classifier\u001b[49m\u001b[38;5;241;43m.\u001b[39;49m\u001b[43mprint_tree\u001b[49m\u001b[43m(\u001b[49m\u001b[43m)\u001b[49m\n",
      "File \u001b[0;32m/usr/local/lib/python3.8/site-packages/odtlearn/robust_oct.py:358\u001b[0m, in \u001b[0;36mRobustOCT.print_tree\u001b[0;34m(self)\u001b[0m\n\u001b[1;32m    355\u001b[0m     \u001b[38;5;28;01mcontinue\u001b[39;00m\n\u001b[1;32m    357\u001b[0m \u001b[38;5;28;01mfor\u001b[39;00m k \u001b[38;5;129;01min\u001b[39;00m \u001b[38;5;28mself\u001b[39m\u001b[38;5;241m.\u001b[39m_labels:\n\u001b[0;32m--> 358\u001b[0m     \u001b[38;5;28;01mif\u001b[39;00m \u001b[38;5;28;43mself\u001b[39;49m\u001b[38;5;241;43m.\u001b[39;49m\u001b[43mw_value\u001b[49m\u001b[43m[\u001b[49m\u001b[43mn\u001b[49m\u001b[43m,\u001b[49m\u001b[43m \u001b[49m\u001b[43mk\u001b[49m\u001b[43m]\u001b[49m\u001b[43m \u001b[49m\u001b[38;5;241;43m>\u001b[39;49m\u001b[43m \u001b[49m\u001b[38;5;241;43m0.5\u001b[39;49m:\n\u001b[1;32m    359\u001b[0m         \u001b[38;5;28mprint\u001b[39m(\u001b[38;5;124m\"\u001b[39m\u001b[38;5;124mleaf \u001b[39m\u001b[38;5;132;01m{}\u001b[39;00m\u001b[38;5;124m\"\u001b[39m\u001b[38;5;241m.\u001b[39mformat(k))\n\u001b[1;32m    360\u001b[0m         terminal \u001b[38;5;241m=\u001b[39m \u001b[38;5;28;01mTrue\u001b[39;00m\n",
      "\u001b[0;31mTypeError\u001b[0m: '>' not supported between instances of 'NoneType' and 'float'"
     ]
    }
   ],
   "source": [
    "robust_classifier.print_tree()"
   ]
  },
  {
   "cell_type": "code",
   "execution_count": 22,
   "id": "986d5b8f",
   "metadata": {
    "cell_id": "02b308f6ab99429d8ffe4d3f4ae0ada7",
    "deepnote_cell_height": 534,
    "deepnote_cell_type": "code",
    "deepnote_output_heights": [
     406
    ],
    "deepnote_to_be_reexecuted": false,
    "execution": {
     "iopub.execute_input": "2023-07-26T03:03:15.273493Z",
     "iopub.status.busy": "2023-07-26T03:03:15.272861Z",
     "iopub.status.idle": "2023-07-26T03:03:15.516553Z",
     "shell.execute_reply": "2023-07-26T03:03:15.515609Z"
    },
    "execution_millis": 389,
    "execution_start": 1664769931109,
    "source_hash": "fbc9df0d",
    "tags": []
   },
   "outputs": [
    {
     "ename": "TypeError",
     "evalue": "'>' not supported between instances of 'NoneType' and 'float'",
     "output_type": "error",
     "traceback": [
      "\u001b[0;31m---------------------------------------------------------------------------\u001b[0m",
      "\u001b[0;31mTypeError\u001b[0m                                 Traceback (most recent call last)",
      "Cell \u001b[0;32mIn[22], line 2\u001b[0m\n\u001b[1;32m      1\u001b[0m fig, ax \u001b[38;5;241m=\u001b[39m plt\u001b[38;5;241m.\u001b[39msubplots(figsize\u001b[38;5;241m=\u001b[39m(\u001b[38;5;241m10\u001b[39m, \u001b[38;5;241m5\u001b[39m))\n\u001b[0;32m----> 2\u001b[0m \u001b[43mrobust_classifier\u001b[49m\u001b[38;5;241;43m.\u001b[39;49m\u001b[43mplot_tree\u001b[49m\u001b[43m(\u001b[49m\u001b[43m)\u001b[49m\n\u001b[1;32m      3\u001b[0m plt\u001b[38;5;241m.\u001b[39mshow()\n",
      "File \u001b[0;32m/usr/local/lib/python3.8/site-packages/odtlearn/robust_oct.py:423\u001b[0m, in \u001b[0;36mRobustOCT.plot_tree\u001b[0;34m(self, label, filled, rounded, precision, ax, fontsize, color_dict, edge_annotation, arrow_annotation_font_scale, debug)\u001b[0m\n\u001b[1;32m    421\u001b[0m node_dict \u001b[38;5;241m=\u001b[39m {}\n\u001b[1;32m    422\u001b[0m \u001b[38;5;28;01mfor\u001b[39;00m node \u001b[38;5;129;01min\u001b[39;00m np\u001b[38;5;241m.\u001b[39marange(\u001b[38;5;241m1\u001b[39m, \u001b[38;5;28mself\u001b[39m\u001b[38;5;241m.\u001b[39m_tree\u001b[38;5;241m.\u001b[39mtotal_nodes \u001b[38;5;241m+\u001b[39m \u001b[38;5;241m1\u001b[39m):\n\u001b[0;32m--> 423\u001b[0m     node_dict[node] \u001b[38;5;241m=\u001b[39m \u001b[38;5;28;43mself\u001b[39;49m\u001b[38;5;241;43m.\u001b[39;49m\u001b[43m_get_node_status\u001b[49m\u001b[43m(\u001b[49m\u001b[38;5;28;43mself\u001b[39;49m\u001b[38;5;241;43m.\u001b[39;49m\u001b[43mb_value\u001b[49m\u001b[43m,\u001b[49m\u001b[43m \u001b[49m\u001b[38;5;28;43mself\u001b[39;49m\u001b[38;5;241;43m.\u001b[39;49m\u001b[43mw_value\u001b[49m\u001b[43m,\u001b[49m\u001b[43m \u001b[49m\u001b[43mnode\u001b[49m\u001b[43m)\u001b[49m\n\u001b[1;32m    425\u001b[0m exporter \u001b[38;5;241m=\u001b[39m MPLPlotter(\n\u001b[1;32m    426\u001b[0m     \u001b[38;5;28mself\u001b[39m\u001b[38;5;241m.\u001b[39m_tree,\n\u001b[1;32m    427\u001b[0m     node_dict,\n\u001b[0;32m   (...)\u001b[0m\n\u001b[1;32m    440\u001b[0m     debug\u001b[38;5;241m=\u001b[39mdebug,\n\u001b[1;32m    441\u001b[0m )\n\u001b[1;32m    442\u001b[0m \u001b[38;5;28;01mreturn\u001b[39;00m exporter\u001b[38;5;241m.\u001b[39mexport(ax\u001b[38;5;241m=\u001b[39max)\n",
      "File \u001b[0;32m/usr/local/lib/python3.8/site-packages/odtlearn/robust_oct.py:102\u001b[0m, in \u001b[0;36mRobustOCT._get_node_status\u001b[0;34m(self, b, w, n)\u001b[0m\n\u001b[1;32m     99\u001b[0m     p_sum \u001b[38;5;241m+\u001b[39m\u001b[38;5;241m=\u001b[39m \u001b[38;5;28msum\u001b[39m(w[m, k] \u001b[38;5;28;01mfor\u001b[39;00m k \u001b[38;5;129;01min\u001b[39;00m \u001b[38;5;28mself\u001b[39m\u001b[38;5;241m.\u001b[39m_labels)\n\u001b[1;32m    100\u001b[0m \u001b[38;5;66;03m# to determine if a leaf, we look at its w value\u001b[39;00m\n\u001b[1;32m    101\u001b[0m \u001b[38;5;66;03m# and find for which label the value > 0.5\u001b[39;00m\n\u001b[0;32m--> 102\u001b[0m col_idx \u001b[38;5;241m=\u001b[39m np\u001b[38;5;241m.\u001b[39masarray([w[n, k] \u001b[38;5;241m>\u001b[39m \u001b[38;5;241m0.5\u001b[39m \u001b[38;5;28;01mfor\u001b[39;00m k \u001b[38;5;129;01min\u001b[39;00m \u001b[38;5;28mself\u001b[39m\u001b[38;5;241m.\u001b[39m_labels])\u001b[38;5;241m.\u001b[39mnonzero()[\u001b[38;5;241m0\u001b[39m]\n\u001b[1;32m    103\u001b[0m \u001b[38;5;66;03m# col_idx = np.asarray(w[n, :] > 0.5).nonzero().flatten()\u001b[39;00m\n\u001b[1;32m    104\u001b[0m \u001b[38;5;66;03m# assuming here that we can only have one column > 0.5\u001b[39;00m\n\u001b[1;32m    105\u001b[0m \u001b[38;5;28;01mif\u001b[39;00m \u001b[38;5;28mlen\u001b[39m(col_idx) \u001b[38;5;241m>\u001b[39m \u001b[38;5;241m0\u001b[39m:\n",
      "File \u001b[0;32m/usr/local/lib/python3.8/site-packages/odtlearn/robust_oct.py:102\u001b[0m, in \u001b[0;36m<listcomp>\u001b[0;34m(.0)\u001b[0m\n\u001b[1;32m     99\u001b[0m     p_sum \u001b[38;5;241m+\u001b[39m\u001b[38;5;241m=\u001b[39m \u001b[38;5;28msum\u001b[39m(w[m, k] \u001b[38;5;28;01mfor\u001b[39;00m k \u001b[38;5;129;01min\u001b[39;00m \u001b[38;5;28mself\u001b[39m\u001b[38;5;241m.\u001b[39m_labels)\n\u001b[1;32m    100\u001b[0m \u001b[38;5;66;03m# to determine if a leaf, we look at its w value\u001b[39;00m\n\u001b[1;32m    101\u001b[0m \u001b[38;5;66;03m# and find for which label the value > 0.5\u001b[39;00m\n\u001b[0;32m--> 102\u001b[0m col_idx \u001b[38;5;241m=\u001b[39m np\u001b[38;5;241m.\u001b[39masarray([\u001b[43mw\u001b[49m\u001b[43m[\u001b[49m\u001b[43mn\u001b[49m\u001b[43m,\u001b[49m\u001b[43m \u001b[49m\u001b[43mk\u001b[49m\u001b[43m]\u001b[49m\u001b[43m \u001b[49m\u001b[38;5;241;43m>\u001b[39;49m\u001b[43m \u001b[49m\u001b[38;5;241;43m0.5\u001b[39;49m \u001b[38;5;28;01mfor\u001b[39;00m k \u001b[38;5;129;01min\u001b[39;00m \u001b[38;5;28mself\u001b[39m\u001b[38;5;241m.\u001b[39m_labels])\u001b[38;5;241m.\u001b[39mnonzero()[\u001b[38;5;241m0\u001b[39m]\n\u001b[1;32m    103\u001b[0m \u001b[38;5;66;03m# col_idx = np.asarray(w[n, :] > 0.5).nonzero().flatten()\u001b[39;00m\n\u001b[1;32m    104\u001b[0m \u001b[38;5;66;03m# assuming here that we can only have one column > 0.5\u001b[39;00m\n\u001b[1;32m    105\u001b[0m \u001b[38;5;28;01mif\u001b[39;00m \u001b[38;5;28mlen\u001b[39m(col_idx) \u001b[38;5;241m>\u001b[39m \u001b[38;5;241m0\u001b[39m:\n",
      "\u001b[0;31mTypeError\u001b[0m: '>' not supported between instances of 'NoneType' and 'float'"
     ]
    },
    {
     "data": {
      "image/png": "[encoded data removed]",
      "text/plain": [
       "<Figure size 1000x500 with 1 Axes>"
      ]
     },
     "metadata": {},
     "output_type": "display_data"
    }
   ],
   "source": [
    "fig, ax = plt.subplots(figsize=(10, 5))\n",
    "robust_classifier.plot_tree()\n",
    "plt.show()"
   ]
  },
  {
   "cell_type": "code",
   "execution_count": 23,
   "id": "cf5d1de9",
   "metadata": {
    "cell_id": "00021-3cc7fda4-c89b-43f7-bbf4-7e6ca8a7298e",
    "deepnote_cell_height": 260.78125,
    "deepnote_cell_type": "code",
    "deepnote_to_be_reexecuted": false,
    "execution": {
     "iopub.execute_input": "2023-07-26T03:03:15.521893Z",
     "iopub.status.busy": "2023-07-26T03:03:15.520292Z",
     "iopub.status.idle": "2023-07-26T03:03:15.568201Z",
     "shell.execute_reply": "2023-07-26T03:03:15.567378Z"
    },
    "execution_millis": 7,
    "execution_start": 1664769931564,
    "source_hash": "e4bb380a"
   },
   "outputs": [
    {
     "ename": "TypeError",
     "evalue": "'>' not supported between instances of 'NoneType' and 'float'",
     "output_type": "error",
     "traceback": [
      "\u001b[0;31m---------------------------------------------------------------------------\u001b[0m",
      "\u001b[0;31mTypeError\u001b[0m                                 Traceback (most recent call last)",
      "Cell \u001b[0;32mIn[23], line 5\u001b[0m\n\u001b[1;32m      1\u001b[0m \u001b[38;5;28;01mfrom\u001b[39;00m \u001b[38;5;21;01msklearn\u001b[39;00m\u001b[38;5;21;01m.\u001b[39;00m\u001b[38;5;21;01mmetrics\u001b[39;00m \u001b[38;5;28;01mimport\u001b[39;00m accuracy_score\n\u001b[1;32m      3\u001b[0m \u001b[38;5;28mprint\u001b[39m(\n\u001b[1;32m      4\u001b[0m     \u001b[38;5;124m\"\u001b[39m\u001b[38;5;124mNon-robust training accuracy: \u001b[39m\u001b[38;5;124m\"\u001b[39m,\n\u001b[0;32m----> 5\u001b[0m     accuracy_score(y_train, \u001b[43mnon_robust_classifier\u001b[49m\u001b[38;5;241;43m.\u001b[39;49m\u001b[43mpredict\u001b[49m\u001b[43m(\u001b[49m\u001b[43mX_train\u001b[49m\u001b[43m)\u001b[49m),\n\u001b[1;32m      6\u001b[0m )\n\u001b[1;32m      7\u001b[0m \u001b[38;5;28mprint\u001b[39m(\n\u001b[1;32m      8\u001b[0m     \u001b[38;5;124m\"\u001b[39m\u001b[38;5;124mRobust training accuracy:     \u001b[39m\u001b[38;5;124m\"\u001b[39m,\n\u001b[1;32m      9\u001b[0m     accuracy_score(y_train, robust_classifier\u001b[38;5;241m.\u001b[39mpredict(X_train)),\n\u001b[1;32m     10\u001b[0m )\n\u001b[1;32m     11\u001b[0m \u001b[38;5;28mprint\u001b[39m(\n\u001b[1;32m     12\u001b[0m     \u001b[38;5;124m\"\u001b[39m\u001b[38;5;124mNon-robust test accuracy:     \u001b[39m\u001b[38;5;124m\"\u001b[39m,\n\u001b[1;32m     13\u001b[0m     accuracy_score(y_test, non_robust_classifier\u001b[38;5;241m.\u001b[39mpredict(X_test)),\n\u001b[1;32m     14\u001b[0m )\n",
      "File \u001b[0;32m/usr/local/lib/python3.8/site-packages/odtlearn/robust_oct.py:342\u001b[0m, in \u001b[0;36mRobustOCT.predict\u001b[0;34m(self, X)\u001b[0m\n\u001b[1;32m    339\u001b[0m df_test \u001b[38;5;241m=\u001b[39m check_same_as_X(\u001b[38;5;28mself\u001b[39m\u001b[38;5;241m.\u001b[39m_X, \u001b[38;5;28mself\u001b[39m\u001b[38;5;241m.\u001b[39m_X_col_labels, X, \u001b[38;5;124m\"\u001b[39m\u001b[38;5;124mtest covariates\u001b[39m\u001b[38;5;124m\"\u001b[39m)\n\u001b[1;32m    340\u001b[0m check_integer(df_test)\n\u001b[0;32m--> 342\u001b[0m \u001b[38;5;28;01mreturn\u001b[39;00m \u001b[38;5;28;43mself\u001b[39;49m\u001b[38;5;241;43m.\u001b[39;49m\u001b[43m_make_prediction\u001b[49m\u001b[43m(\u001b[49m\u001b[43mdf_test\u001b[49m\u001b[43m)\u001b[49m\n",
      "File \u001b[0;32m/usr/local/lib/python3.8/site-packages/odtlearn/robust_oct.py:127\u001b[0m, in \u001b[0;36mRobustOCT._make_prediction\u001b[0;34m(self, X)\u001b[0m\n\u001b[1;32m    125\u001b[0m terminal \u001b[38;5;241m=\u001b[39m \u001b[38;5;28;01mFalse\u001b[39;00m\n\u001b[1;32m    126\u001b[0m \u001b[38;5;28;01mfor\u001b[39;00m k \u001b[38;5;129;01min\u001b[39;00m \u001b[38;5;28mself\u001b[39m\u001b[38;5;241m.\u001b[39m_labels:\n\u001b[0;32m--> 127\u001b[0m     \u001b[38;5;28;01mif\u001b[39;00m \u001b[38;5;28;43mself\u001b[39;49m\u001b[38;5;241;43m.\u001b[39;49m\u001b[43mw_value\u001b[49m\u001b[43m[\u001b[49m\u001b[43mnode\u001b[49m\u001b[43m,\u001b[49m\u001b[43m \u001b[49m\u001b[43mk\u001b[49m\u001b[43m]\u001b[49m\u001b[43m \u001b[49m\u001b[38;5;241;43m>\u001b[39;49m\u001b[43m \u001b[49m\u001b[38;5;241;43m0.5\u001b[39;49m:  \u001b[38;5;66;03m# w[n,k] == 1\u001b[39;00m\n\u001b[1;32m    128\u001b[0m         prediction \u001b[38;5;241m+\u001b[39m\u001b[38;5;241m=\u001b[39m [k]\n\u001b[1;32m    129\u001b[0m         terminal \u001b[38;5;241m=\u001b[39m \u001b[38;5;28;01mTrue\u001b[39;00m\n",
      "\u001b[0;31mTypeError\u001b[0m: '>' not supported between instances of 'NoneType' and 'float'"
     ]
    }
   ],
   "source": [
    "from sklearn.metrics import accuracy_score\n",
    "\n",
    "print(\n",
    "    \"Non-robust training accuracy: \",\n",
    "    accuracy_score(y_train, non_robust_classifier.predict(X_train)),\n",
    ")\n",
    "print(\n",
    "    \"Robust training accuracy:     \",\n",
    "    accuracy_score(y_train, robust_classifier.predict(X_train)),\n",
    ")\n",
    "print(\n",
    "    \"Non-robust test accuracy:     \",\n",
    "    accuracy_score(y_test, non_robust_classifier.predict(X_test)),\n",
    ")\n",
    "print(\n",
    "    \"Robust test accuracy:         \",\n",
    "    accuracy_score(y_test, robust_classifier.predict(X_test)),\n",
    ")"
   ]
  },
  {
   "attachments": {},
   "cell_type": "markdown",
   "id": "10f24f30",
   "metadata": {
    "cell_id": "00022-17f6f113-6d42-41de-97a4-425263e19c21",
    "deepnote_cell_height": 74.796875,
    "deepnote_cell_type": "markdown"
   },
   "source": [
    "To measure the performance of the trained models, perturb the test data based off of our known certainties of each feature (to simulate a distribtion shift), and then see how well each tree performs against the perturbed data\n"
   ]
  },
  {
   "cell_type": "code",
   "execution_count": 24,
   "id": "785bec50",
   "metadata": {
    "cell_id": "00023-6873bd0d-ac31-4d00-9fd8-74d79f46f931",
    "deepnote_cell_height": 454,
    "deepnote_cell_type": "code",
    "deepnote_to_be_reexecuted": false,
    "execution": {
     "iopub.execute_input": "2023-07-26T03:03:15.572441Z",
     "iopub.status.busy": "2023-07-26T03:03:15.571771Z",
     "iopub.status.idle": "2023-07-26T03:03:15.629562Z",
     "shell.execute_reply": "2023-07-26T03:03:15.628750Z"
    },
    "execution_millis": 5400,
    "execution_start": 1664769931576,
    "source_hash": "fa02f8dd"
   },
   "outputs": [
    {
     "ename": "TypeError",
     "evalue": "'>' not supported between instances of 'NoneType' and 'float'",
     "output_type": "error",
     "traceback": [
      "\u001b[0;31m---------------------------------------------------------------------------\u001b[0m",
      "\u001b[0;31mTypeError\u001b[0m                                 Traceback (most recent call last)",
      "Cell \u001b[0;32mIn[24], line 20\u001b[0m\n\u001b[1;32m     18\u001b[0m \u001b[38;5;28;01mfor\u001b[39;00m s \u001b[38;5;129;01min\u001b[39;00m \u001b[38;5;28mrange\u001b[39m(\u001b[38;5;241m1\u001b[39m, \u001b[38;5;241m1001\u001b[39m):\n\u001b[1;32m     19\u001b[0m     X_test_perturbed \u001b[38;5;241m=\u001b[39m perturb(X_test, q_f, s)\n\u001b[0;32m---> 20\u001b[0m     non_robust_pred \u001b[38;5;241m=\u001b[39m \u001b[43mnon_robust_classifier\u001b[49m\u001b[38;5;241;43m.\u001b[39;49m\u001b[43mpredict\u001b[49m\u001b[43m(\u001b[49m\u001b[43mX_test_perturbed\u001b[49m\u001b[43m)\u001b[49m\n\u001b[1;32m     21\u001b[0m     robust_pred \u001b[38;5;241m=\u001b[39m robust_classifier\u001b[38;5;241m.\u001b[39mpredict(X_test_perturbed)\n\u001b[1;32m     22\u001b[0m     non_robust_acc \u001b[38;5;241m+\u001b[39m\u001b[38;5;241m=\u001b[39m [accuracy_score(y_test, non_robust_pred)]\n",
      "File \u001b[0;32m/usr/local/lib/python3.8/site-packages/odtlearn/robust_oct.py:342\u001b[0m, in \u001b[0;36mRobustOCT.predict\u001b[0;34m(self, X)\u001b[0m\n\u001b[1;32m    339\u001b[0m df_test \u001b[38;5;241m=\u001b[39m check_same_as_X(\u001b[38;5;28mself\u001b[39m\u001b[38;5;241m.\u001b[39m_X, \u001b[38;5;28mself\u001b[39m\u001b[38;5;241m.\u001b[39m_X_col_labels, X, \u001b[38;5;124m\"\u001b[39m\u001b[38;5;124mtest covariates\u001b[39m\u001b[38;5;124m\"\u001b[39m)\n\u001b[1;32m    340\u001b[0m check_integer(df_test)\n\u001b[0;32m--> 342\u001b[0m \u001b[38;5;28;01mreturn\u001b[39;00m \u001b[38;5;28;43mself\u001b[39;49m\u001b[38;5;241;43m.\u001b[39;49m\u001b[43m_make_prediction\u001b[49m\u001b[43m(\u001b[49m\u001b[43mdf_test\u001b[49m\u001b[43m)\u001b[49m\n",
      "File \u001b[0;32m/usr/local/lib/python3.8/site-packages/odtlearn/robust_oct.py:127\u001b[0m, in \u001b[0;36mRobustOCT._make_prediction\u001b[0;34m(self, X)\u001b[0m\n\u001b[1;32m    125\u001b[0m terminal \u001b[38;5;241m=\u001b[39m \u001b[38;5;28;01mFalse\u001b[39;00m\n\u001b[1;32m    126\u001b[0m \u001b[38;5;28;01mfor\u001b[39;00m k \u001b[38;5;129;01min\u001b[39;00m \u001b[38;5;28mself\u001b[39m\u001b[38;5;241m.\u001b[39m_labels:\n\u001b[0;32m--> 127\u001b[0m     \u001b[38;5;28;01mif\u001b[39;00m \u001b[38;5;28;43mself\u001b[39;49m\u001b[38;5;241;43m.\u001b[39;49m\u001b[43mw_value\u001b[49m\u001b[43m[\u001b[49m\u001b[43mnode\u001b[49m\u001b[43m,\u001b[49m\u001b[43m \u001b[49m\u001b[43mk\u001b[49m\u001b[43m]\u001b[49m\u001b[43m \u001b[49m\u001b[38;5;241;43m>\u001b[39;49m\u001b[43m \u001b[49m\u001b[38;5;241;43m0.5\u001b[39;49m:  \u001b[38;5;66;03m# w[n,k] == 1\u001b[39;00m\n\u001b[1;32m    128\u001b[0m         prediction \u001b[38;5;241m+\u001b[39m\u001b[38;5;241m=\u001b[39m [k]\n\u001b[1;32m    129\u001b[0m         terminal \u001b[38;5;241m=\u001b[39m \u001b[38;5;28;01mTrue\u001b[39;00m\n",
      "\u001b[0;31mTypeError\u001b[0m: '>' not supported between instances of 'NoneType' and 'float'"
     ]
    }
   ],
   "source": [
    "def perturb(data, q_f, seed):\n",
    "    \"\"\"Perturb X given q_f based off of the symmetric geometric distribution\"\"\"\n",
    "    new_data = deepcopy(data)\n",
    "    np.random.seed(seed)\n",
    "    # Perturbation of features\n",
    "    for f in range(len(new_data.columns)):\n",
    "        perturbations = np.random.geometric(q_f[f], size=new_data.shape[0])\n",
    "        perturbations = perturbations - 1  # Support should be 0,1,2,...\n",
    "        signs = (2 * np.random.binomial(1, 0.5, size=new_data.shape[0])) - 1\n",
    "        perturbations = perturbations * signs\n",
    "        new_data[new_data.columns[f]] = new_data[new_data.columns[f]] + perturbations\n",
    "    return new_data\n",
    "\n",
    "\n",
    "\"\"\"Obtain 1000 different perturbed test sets, and record accuracies\"\"\"\n",
    "non_robust_acc = []\n",
    "robust_acc = []\n",
    "for s in range(1, 1001):\n",
    "    X_test_perturbed = perturb(X_test, q_f, s)\n",
    "    non_robust_pred = non_robust_classifier.predict(X_test_perturbed)\n",
    "    robust_pred = robust_classifier.predict(X_test_perturbed)\n",
    "    non_robust_acc += [accuracy_score(y_test, non_robust_pred)]\n",
    "    robust_acc += [accuracy_score(y_test, robust_pred)]"
   ]
  },
  {
   "cell_type": "code",
   "execution_count": 25,
   "id": "0b6a4289",
   "metadata": {
    "cell_id": "00024-32351bf0-26fb-4ff1-9892-f9e0b484ca12",
    "deepnote_cell_height": 219.78125,
    "deepnote_cell_type": "code",
    "deepnote_to_be_reexecuted": false,
    "execution": {
     "iopub.execute_input": "2023-07-26T03:03:15.633903Z",
     "iopub.status.busy": "2023-07-26T03:03:15.633249Z",
     "iopub.status.idle": "2023-07-26T03:03:15.661145Z",
     "shell.execute_reply": "2023-07-26T03:03:15.660363Z"
    },
    "execution_millis": 4,
    "execution_start": 1664769936979,
    "source_hash": "8fcb1c0a"
   },
   "outputs": [
    {
     "ename": "ValueError",
     "evalue": "min() arg is an empty sequence",
     "output_type": "error",
     "traceback": [
      "\u001b[0;31m---------------------------------------------------------------------------\u001b[0m",
      "\u001b[0;31mValueError\u001b[0m                                Traceback (most recent call last)",
      "Cell \u001b[0;32mIn[25], line 1\u001b[0m\n\u001b[0;32m----> 1\u001b[0m \u001b[38;5;28mprint\u001b[39m(\u001b[38;5;124m\"\u001b[39m\u001b[38;5;124mWorst-case accuracy (Non-Robust Tree): \u001b[39m\u001b[38;5;124m\"\u001b[39m, \u001b[38;5;28;43mmin\u001b[39;49m\u001b[43m(\u001b[49m\u001b[43mnon_robust_acc\u001b[49m\u001b[43m)\u001b[49m)\n\u001b[1;32m      2\u001b[0m \u001b[38;5;28mprint\u001b[39m(\u001b[38;5;124m\"\u001b[39m\u001b[38;5;124mWorst-case accuracy (Robust Tree):     \u001b[39m\u001b[38;5;124m\"\u001b[39m, \u001b[38;5;28mmin\u001b[39m(robust_acc))\n\u001b[1;32m      3\u001b[0m \u001b[38;5;28mprint\u001b[39m(\n\u001b[1;32m      4\u001b[0m     \u001b[38;5;124m\"\u001b[39m\u001b[38;5;124mAverage accuracy (Non-Robust Tree):    \u001b[39m\u001b[38;5;124m\"\u001b[39m, \u001b[38;5;28msum\u001b[39m(non_robust_acc) \u001b[38;5;241m/\u001b[39m \u001b[38;5;28mlen\u001b[39m(non_robust_acc)\n\u001b[1;32m      5\u001b[0m )\n",
      "\u001b[0;31mValueError\u001b[0m: min() arg is an empty sequence"
     ]
    }
   ],
   "source": [
    "print(\"Worst-case accuracy (Non-Robust Tree): \", min(non_robust_acc))\n",
    "print(\"Worst-case accuracy (Robust Tree):     \", min(robust_acc))\n",
    "print(\n",
    "    \"Average accuracy (Non-Robust Tree):    \", sum(non_robust_acc) / len(non_robust_acc)\n",
    ")\n",
    "print(\"Average accuracy (Robust Tree):        \", sum(robust_acc) / len(robust_acc))"
   ]
  },
  {
   "attachments": {},
   "cell_type": "markdown",
   "id": "117c0143",
   "metadata": {
    "cell_id": "6e94893cd87747d48562368a596e05cc",
    "deepnote_cell_height": 341.59375,
    "deepnote_cell_type": "markdown",
    "tags": []
   },
   "source": [
    "## References\n",
    "* Justin, N., Aghaei, S., Gómez, A., & Vayanos, P. (2022). Optimal robust classification trees. *The AAAI-2022 Workshop on Adversarial Machine Learning and Beyond*. https://openreview.net/pdf?id=HbasA9ysA3\n",
    "* Dua, D. and Graff, C. (2019). [UCI Machine Learning Repository](http://archive.ics.uci.edu/ml). Irvine, CA: University of California, School of Information and Computer Science."
   ]
  },
  {
   "attachments": {},
   "cell_type": "markdown",
   "id": "3ad3035b",
   "metadata": {
    "cell_id": "3d9344a051214b0d8722d3aba9faa162",
    "deepnote_cell_height": 46,
    "deepnote_cell_type": "markdown",
    "tags": []
   },
   "source": []
  }
 ],
 "metadata": {
  "deepnote": {},
  "deepnote_execution_queue": [],
  "deepnote_notebook_id": "48fbaca3-de19-4cc4-b8bd-5da9f4b14110",
  "kernelspec": {
   "display_name": "Python 3 (ipykernel)",
   "language": "python",
   "name": "python3"
  },
  "language_info": {
   "codemirror_mode": {
    "name": "ipython",
    "version": 3
   },
   "file_extension": ".py",
   "mimetype": "text/x-python",
   "name": "python",
   "nbconvert_exporter": "python",
   "pygments_lexer": "ipython3",
   "version": "3.8.2"
  }
 },
 "nbformat": 4,
 "nbformat_minor": 5
}
